{
 "cells": [
  {
   "cell_type": "markdown",
   "id": "225bab46",
   "metadata": {},
   "source": [
    "# Importing Necessary Libraries"
   ]
  },
  {
   "cell_type": "code",
   "execution_count": 1,
   "id": "b959e2e5",
   "metadata": {},
   "outputs": [],
   "source": [
    "# For analysis and numerical functions\n",
    "import numpy as np\n",
    "import pandas as pd\n",
    "# For visualisation and analysis\n",
    "import matplotlib.pyplot as plt\n",
    "import seaborn as sns\n",
    "# Warnings\n",
    "import warnings\n",
    "warnings.filterwarnings(action='ignore')\n",
    "\n",
    "# later we will import some more machine learning libraries as per need"
   ]
  },
  {
   "cell_type": "markdown",
   "id": "6d2cc804",
   "metadata": {},
   "source": [
    "# Dataset Loading"
   ]
  },
  {
   "cell_type": "code",
   "execution_count": 2,
   "id": "00a42738",
   "metadata": {},
   "outputs": [
    {
     "data": {
      "text/html": [
       "<div>\n",
       "<style scoped>\n",
       "    .dataframe tbody tr th:only-of-type {\n",
       "        vertical-align: middle;\n",
       "    }\n",
       "\n",
       "    .dataframe tbody tr th {\n",
       "        vertical-align: top;\n",
       "    }\n",
       "\n",
       "    .dataframe thead th {\n",
       "        text-align: right;\n",
       "    }\n",
       "</style>\n",
       "<table border=\"1\" class=\"dataframe\">\n",
       "  <thead>\n",
       "    <tr style=\"text-align: right;\">\n",
       "      <th></th>\n",
       "      <th>instant</th>\n",
       "      <th>dteday</th>\n",
       "      <th>season</th>\n",
       "      <th>yr</th>\n",
       "      <th>mnth</th>\n",
       "      <th>holiday</th>\n",
       "      <th>weekday</th>\n",
       "      <th>workingday</th>\n",
       "      <th>weathersit</th>\n",
       "      <th>temp</th>\n",
       "      <th>atemp</th>\n",
       "      <th>hum</th>\n",
       "      <th>windspeed</th>\n",
       "      <th>casual</th>\n",
       "      <th>registered</th>\n",
       "      <th>cnt</th>\n",
       "    </tr>\n",
       "  </thead>\n",
       "  <tbody>\n",
       "    <tr>\n",
       "      <th>0</th>\n",
       "      <td>1</td>\n",
       "      <td>01-01-2018</td>\n",
       "      <td>1</td>\n",
       "      <td>0</td>\n",
       "      <td>1</td>\n",
       "      <td>0</td>\n",
       "      <td>6</td>\n",
       "      <td>0</td>\n",
       "      <td>2</td>\n",
       "      <td>14.110847</td>\n",
       "      <td>18.18125</td>\n",
       "      <td>80.5833</td>\n",
       "      <td>10.749882</td>\n",
       "      <td>331</td>\n",
       "      <td>654</td>\n",
       "      <td>985</td>\n",
       "    </tr>\n",
       "    <tr>\n",
       "      <th>1</th>\n",
       "      <td>2</td>\n",
       "      <td>02-01-2018</td>\n",
       "      <td>1</td>\n",
       "      <td>0</td>\n",
       "      <td>1</td>\n",
       "      <td>0</td>\n",
       "      <td>0</td>\n",
       "      <td>0</td>\n",
       "      <td>2</td>\n",
       "      <td>14.902598</td>\n",
       "      <td>17.68695</td>\n",
       "      <td>69.6087</td>\n",
       "      <td>16.652113</td>\n",
       "      <td>131</td>\n",
       "      <td>670</td>\n",
       "      <td>801</td>\n",
       "    </tr>\n",
       "    <tr>\n",
       "      <th>2</th>\n",
       "      <td>3</td>\n",
       "      <td>03-01-2018</td>\n",
       "      <td>1</td>\n",
       "      <td>0</td>\n",
       "      <td>1</td>\n",
       "      <td>0</td>\n",
       "      <td>1</td>\n",
       "      <td>1</td>\n",
       "      <td>1</td>\n",
       "      <td>8.050924</td>\n",
       "      <td>9.47025</td>\n",
       "      <td>43.7273</td>\n",
       "      <td>16.636703</td>\n",
       "      <td>120</td>\n",
       "      <td>1229</td>\n",
       "      <td>1349</td>\n",
       "    </tr>\n",
       "    <tr>\n",
       "      <th>3</th>\n",
       "      <td>4</td>\n",
       "      <td>04-01-2018</td>\n",
       "      <td>1</td>\n",
       "      <td>0</td>\n",
       "      <td>1</td>\n",
       "      <td>0</td>\n",
       "      <td>2</td>\n",
       "      <td>1</td>\n",
       "      <td>1</td>\n",
       "      <td>8.200000</td>\n",
       "      <td>10.60610</td>\n",
       "      <td>59.0435</td>\n",
       "      <td>10.739832</td>\n",
       "      <td>108</td>\n",
       "      <td>1454</td>\n",
       "      <td>1562</td>\n",
       "    </tr>\n",
       "    <tr>\n",
       "      <th>4</th>\n",
       "      <td>5</td>\n",
       "      <td>05-01-2018</td>\n",
       "      <td>1</td>\n",
       "      <td>0</td>\n",
       "      <td>1</td>\n",
       "      <td>0</td>\n",
       "      <td>3</td>\n",
       "      <td>1</td>\n",
       "      <td>1</td>\n",
       "      <td>9.305237</td>\n",
       "      <td>11.46350</td>\n",
       "      <td>43.6957</td>\n",
       "      <td>12.522300</td>\n",
       "      <td>82</td>\n",
       "      <td>1518</td>\n",
       "      <td>1600</td>\n",
       "    </tr>\n",
       "  </tbody>\n",
       "</table>\n",
       "</div>"
      ],
      "text/plain": [
       "   instant      dteday  season  yr  mnth  holiday  weekday  workingday  \\\n",
       "0        1  01-01-2018       1   0     1        0        6           0   \n",
       "1        2  02-01-2018       1   0     1        0        0           0   \n",
       "2        3  03-01-2018       1   0     1        0        1           1   \n",
       "3        4  04-01-2018       1   0     1        0        2           1   \n",
       "4        5  05-01-2018       1   0     1        0        3           1   \n",
       "\n",
       "   weathersit       temp     atemp      hum  windspeed  casual  registered  \\\n",
       "0           2  14.110847  18.18125  80.5833  10.749882     331         654   \n",
       "1           2  14.902598  17.68695  69.6087  16.652113     131         670   \n",
       "2           1   8.050924   9.47025  43.7273  16.636703     120        1229   \n",
       "3           1   8.200000  10.60610  59.0435  10.739832     108        1454   \n",
       "4           1   9.305237  11.46350  43.6957  12.522300      82        1518   \n",
       "\n",
       "    cnt  \n",
       "0   985  \n",
       "1   801  \n",
       "2  1349  \n",
       "3  1562  \n",
       "4  1600  "
      ]
     },
     "execution_count": 2,
     "metadata": {},
     "output_type": "execute_result"
    }
   ],
   "source": [
    "#using pandas library and 'read_csv' function to read csv file \n",
    "df=pd.read_csv(\"day.csv\")\n",
    "#examine head \n",
    "df.head()"
   ]
  },
  {
   "cell_type": "markdown",
   "id": "6f7d8cc7",
   "metadata": {},
   "source": [
    "# Data Sanity Checks"
   ]
  },
  {
   "cell_type": "code",
   "execution_count": 3,
   "id": "ccdeb206",
   "metadata": {},
   "outputs": [
    {
     "data": {
      "text/plain": [
       "(730, 16)"
      ]
     },
     "execution_count": 3,
     "metadata": {},
     "output_type": "execute_result"
    }
   ],
   "source": [
    "#checking the number of rows and the number of columns, respectively.\n",
    "df.shape"
   ]
  },
  {
   "cell_type": "code",
   "execution_count": 4,
   "id": "6566ace9",
   "metadata": {},
   "outputs": [
    {
     "data": {
      "text/plain": [
       "<bound method DataFrame.info of      instant      dteday  season  yr  mnth  holiday  weekday  workingday  \\\n",
       "0          1  01-01-2018       1   0     1        0        6           0   \n",
       "1          2  02-01-2018       1   0     1        0        0           0   \n",
       "2          3  03-01-2018       1   0     1        0        1           1   \n",
       "3          4  04-01-2018       1   0     1        0        2           1   \n",
       "4          5  05-01-2018       1   0     1        0        3           1   \n",
       "..       ...         ...     ...  ..   ...      ...      ...         ...   \n",
       "725      726  27-12-2019       1   1    12        0        4           1   \n",
       "726      727  28-12-2019       1   1    12        0        5           1   \n",
       "727      728  29-12-2019       1   1    12        0        6           0   \n",
       "728      729  30-12-2019       1   1    12        0        0           0   \n",
       "729      730  31-12-2019       1   1    12        0        1           1   \n",
       "\n",
       "     weathersit       temp     atemp      hum  windspeed  casual  registered  \\\n",
       "0             2  14.110847  18.18125  80.5833  10.749882     331         654   \n",
       "1             2  14.902598  17.68695  69.6087  16.652113     131         670   \n",
       "2             1   8.050924   9.47025  43.7273  16.636703     120        1229   \n",
       "3             1   8.200000  10.60610  59.0435  10.739832     108        1454   \n",
       "4             1   9.305237  11.46350  43.6957  12.522300      82        1518   \n",
       "..          ...        ...       ...      ...        ...     ...         ...   \n",
       "725           2  10.420847  11.33210  65.2917  23.458911     247        1867   \n",
       "726           2  10.386653  12.75230  59.0000  10.416557     644        2451   \n",
       "727           2  10.386653  12.12000  75.2917   8.333661     159        1182   \n",
       "728           1  10.489153  11.58500  48.3333  23.500518     364        1432   \n",
       "729           2   8.849153  11.17435  57.7500  10.374682     439        2290   \n",
       "\n",
       "      cnt  \n",
       "0     985  \n",
       "1     801  \n",
       "2    1349  \n",
       "3    1562  \n",
       "4    1600  \n",
       "..    ...  \n",
       "725  2114  \n",
       "726  3095  \n",
       "727  1341  \n",
       "728  1796  \n",
       "729  2729  \n",
       "\n",
       "[730 rows x 16 columns]>"
      ]
     },
     "execution_count": 4,
     "metadata": {},
     "output_type": "execute_result"
    }
   ],
   "source": [
    "df.info"
   ]
  },
  {
   "cell_type": "markdown",
   "id": "c60749d7",
   "metadata": {},
   "source": [
    "# Missing Value Check"
   ]
  },
  {
   "cell_type": "code",
   "execution_count": 5,
   "id": "75385a3d",
   "metadata": {},
   "outputs": [
    {
     "data": {
      "text/plain": [
       "instant       0.0\n",
       "dteday        0.0\n",
       "season        0.0\n",
       "yr            0.0\n",
       "mnth          0.0\n",
       "holiday       0.0\n",
       "weekday       0.0\n",
       "workingday    0.0\n",
       "weathersit    0.0\n",
       "temp          0.0\n",
       "atemp         0.0\n",
       "hum           0.0\n",
       "windspeed     0.0\n",
       "casual        0.0\n",
       "registered    0.0\n",
       "cnt           0.0\n",
       "dtype: float64"
      ]
     },
     "execution_count": 5,
     "metadata": {},
     "output_type": "execute_result"
    }
   ],
   "source": [
    "df.isnull().mean()"
   ]
  },
  {
   "cell_type": "code",
   "execution_count": 6,
   "id": "0b5eb196",
   "metadata": {},
   "outputs": [],
   "source": [
    "# In this dataset there is no missing values"
   ]
  },
  {
   "cell_type": "code",
   "execution_count": 7,
   "id": "2b24e369",
   "metadata": {},
   "outputs": [
    {
     "data": {
      "text/plain": [
       "instant       730\n",
       "dteday        730\n",
       "season          4\n",
       "yr              2\n",
       "mnth           12\n",
       "holiday         2\n",
       "weekday         7\n",
       "workingday      2\n",
       "weathersit      3\n",
       "temp          498\n",
       "atemp         689\n",
       "hum           594\n",
       "windspeed     649\n",
       "casual        605\n",
       "registered    678\n",
       "cnt           695\n",
       "dtype: int64"
      ]
     },
     "execution_count": 7,
     "metadata": {},
     "output_type": "execute_result"
    }
   ],
   "source": [
    "df.nunique()"
   ]
  },
  {
   "cell_type": "markdown",
   "id": "3b7e7fec",
   "metadata": {},
   "source": [
    "# Dropping unnecessary columns"
   ]
  },
  {
   "cell_type": "code",
   "execution_count": 8,
   "id": "dbaa5ee1",
   "metadata": {},
   "outputs": [
    {
     "data": {
      "text/html": [
       "<div>\n",
       "<style scoped>\n",
       "    .dataframe tbody tr th:only-of-type {\n",
       "        vertical-align: middle;\n",
       "    }\n",
       "\n",
       "    .dataframe tbody tr th {\n",
       "        vertical-align: top;\n",
       "    }\n",
       "\n",
       "    .dataframe thead th {\n",
       "        text-align: right;\n",
       "    }\n",
       "</style>\n",
       "<table border=\"1\" class=\"dataframe\">\n",
       "  <thead>\n",
       "    <tr style=\"text-align: right;\">\n",
       "      <th></th>\n",
       "      <th>season</th>\n",
       "      <th>yr</th>\n",
       "      <th>mnth</th>\n",
       "      <th>holiday</th>\n",
       "      <th>weekday</th>\n",
       "      <th>workingday</th>\n",
       "      <th>weathersit</th>\n",
       "      <th>temp</th>\n",
       "      <th>hum</th>\n",
       "      <th>windspeed</th>\n",
       "      <th>cnt</th>\n",
       "    </tr>\n",
       "  </thead>\n",
       "  <tbody>\n",
       "    <tr>\n",
       "      <th>0</th>\n",
       "      <td>1</td>\n",
       "      <td>0</td>\n",
       "      <td>1</td>\n",
       "      <td>0</td>\n",
       "      <td>6</td>\n",
       "      <td>0</td>\n",
       "      <td>2</td>\n",
       "      <td>14.110847</td>\n",
       "      <td>80.5833</td>\n",
       "      <td>10.749882</td>\n",
       "      <td>985</td>\n",
       "    </tr>\n",
       "    <tr>\n",
       "      <th>1</th>\n",
       "      <td>1</td>\n",
       "      <td>0</td>\n",
       "      <td>1</td>\n",
       "      <td>0</td>\n",
       "      <td>0</td>\n",
       "      <td>0</td>\n",
       "      <td>2</td>\n",
       "      <td>14.902598</td>\n",
       "      <td>69.6087</td>\n",
       "      <td>16.652113</td>\n",
       "      <td>801</td>\n",
       "    </tr>\n",
       "    <tr>\n",
       "      <th>2</th>\n",
       "      <td>1</td>\n",
       "      <td>0</td>\n",
       "      <td>1</td>\n",
       "      <td>0</td>\n",
       "      <td>1</td>\n",
       "      <td>1</td>\n",
       "      <td>1</td>\n",
       "      <td>8.050924</td>\n",
       "      <td>43.7273</td>\n",
       "      <td>16.636703</td>\n",
       "      <td>1349</td>\n",
       "    </tr>\n",
       "    <tr>\n",
       "      <th>3</th>\n",
       "      <td>1</td>\n",
       "      <td>0</td>\n",
       "      <td>1</td>\n",
       "      <td>0</td>\n",
       "      <td>2</td>\n",
       "      <td>1</td>\n",
       "      <td>1</td>\n",
       "      <td>8.200000</td>\n",
       "      <td>59.0435</td>\n",
       "      <td>10.739832</td>\n",
       "      <td>1562</td>\n",
       "    </tr>\n",
       "    <tr>\n",
       "      <th>4</th>\n",
       "      <td>1</td>\n",
       "      <td>0</td>\n",
       "      <td>1</td>\n",
       "      <td>0</td>\n",
       "      <td>3</td>\n",
       "      <td>1</td>\n",
       "      <td>1</td>\n",
       "      <td>9.305237</td>\n",
       "      <td>43.6957</td>\n",
       "      <td>12.522300</td>\n",
       "      <td>1600</td>\n",
       "    </tr>\n",
       "  </tbody>\n",
       "</table>\n",
       "</div>"
      ],
      "text/plain": [
       "   season  yr  mnth  holiday  weekday  workingday  weathersit       temp  \\\n",
       "0       1   0     1        0        6           0           2  14.110847   \n",
       "1       1   0     1        0        0           0           2  14.902598   \n",
       "2       1   0     1        0        1           1           1   8.050924   \n",
       "3       1   0     1        0        2           1           1   8.200000   \n",
       "4       1   0     1        0        3           1           1   9.305237   \n",
       "\n",
       "       hum  windspeed   cnt  \n",
       "0  80.5833  10.749882   985  \n",
       "1  69.6087  16.652113   801  \n",
       "2  43.7273  16.636703  1349  \n",
       "3  59.0435  10.739832  1562  \n",
       "4  43.6957  12.522300  1600  "
      ]
     },
     "execution_count": 8,
     "metadata": {},
     "output_type": "execute_result"
    }
   ],
   "source": [
    "df1=df.drop(['instant','dteday','casual', 'registered','atemp'], axis=1)\n",
    "df1.head()"
   ]
  },
  {
   "cell_type": "code",
   "execution_count": 9,
   "id": "aab906c0",
   "metadata": {},
   "outputs": [
    {
     "data": {
      "text/plain": [
       "(730, 11)"
      ]
     },
     "execution_count": 9,
     "metadata": {},
     "output_type": "execute_result"
    }
   ],
   "source": [
    "df1.shape "
   ]
  },
  {
   "cell_type": "markdown",
   "id": "d649de7d",
   "metadata": {},
   "source": [
    "# Mapping necessary columns"
   ]
  },
  {
   "cell_type": "code",
   "execution_count": 10,
   "id": "6beb92ab",
   "metadata": {},
   "outputs": [],
   "source": [
    "#To analyze categorical variables with non-binary values, mapping them to a numerical is required."
   ]
  },
  {
   "cell_type": "code",
   "execution_count": 11,
   "id": "8f7d5ec8",
   "metadata": {},
   "outputs": [],
   "source": [
    "# Mapping season column\n",
    "df1['season'].replace({1:\"spring\",2:\"summer\",3:\"fall\",4:\"winter\"},inplace=True)"
   ]
  },
  {
   "cell_type": "code",
   "execution_count": 12,
   "id": "c353be51",
   "metadata": {},
   "outputs": [],
   "source": [
    "# Mapping mnth column\n",
    "df1['mnth'].replace({1:\"January\",2:\"Feburary\",3:\"March\",4:\"April\",5:\"May\",6:\"June\",7:\"July\",8:\"August\",\n",
    "                    9:\"September\",10:\"October\",11:\"November\",12:\"December\"},inplace=True)"
   ]
  },
  {
   "cell_type": "code",
   "execution_count": 13,
   "id": "2501a883",
   "metadata": {},
   "outputs": [],
   "source": [
    "# Mapping weekday column\n",
    "df1['weekday'].replace({0:\"Sunday\",1:\"Monday\",2:\"Tuesday\",3:\"Wednesday\",4:\"Thursday\",5:\"Friday\",6:\"Saturday\"},inplace=True)"
   ]
  },
  {
   "cell_type": "code",
   "execution_count": 14,
   "id": "cfb31d4e",
   "metadata": {},
   "outputs": [],
   "source": [
    "df1['weathersit'].replace({1:\"Clear_Few Clouds\",2:\"Mist_cloudy\",3:\"Light rain_Light snow_Thunderstorm\",\n",
    "                          4:'Heavy Rain_Ice Pallets_Thunderstorm_Mist'},inplace=True)"
   ]
  },
  {
   "cell_type": "code",
   "execution_count": 15,
   "id": "ce6a548a",
   "metadata": {},
   "outputs": [
    {
     "data": {
      "text/html": [
       "<div>\n",
       "<style scoped>\n",
       "    .dataframe tbody tr th:only-of-type {\n",
       "        vertical-align: middle;\n",
       "    }\n",
       "\n",
       "    .dataframe tbody tr th {\n",
       "        vertical-align: top;\n",
       "    }\n",
       "\n",
       "    .dataframe thead th {\n",
       "        text-align: right;\n",
       "    }\n",
       "</style>\n",
       "<table border=\"1\" class=\"dataframe\">\n",
       "  <thead>\n",
       "    <tr style=\"text-align: right;\">\n",
       "      <th></th>\n",
       "      <th>season</th>\n",
       "      <th>yr</th>\n",
       "      <th>mnth</th>\n",
       "      <th>holiday</th>\n",
       "      <th>weekday</th>\n",
       "      <th>workingday</th>\n",
       "      <th>weathersit</th>\n",
       "      <th>temp</th>\n",
       "      <th>hum</th>\n",
       "      <th>windspeed</th>\n",
       "      <th>cnt</th>\n",
       "    </tr>\n",
       "  </thead>\n",
       "  <tbody>\n",
       "    <tr>\n",
       "      <th>0</th>\n",
       "      <td>spring</td>\n",
       "      <td>0</td>\n",
       "      <td>January</td>\n",
       "      <td>0</td>\n",
       "      <td>Saturday</td>\n",
       "      <td>0</td>\n",
       "      <td>Mist_cloudy</td>\n",
       "      <td>14.110847</td>\n",
       "      <td>80.5833</td>\n",
       "      <td>10.749882</td>\n",
       "      <td>985</td>\n",
       "    </tr>\n",
       "    <tr>\n",
       "      <th>1</th>\n",
       "      <td>spring</td>\n",
       "      <td>0</td>\n",
       "      <td>January</td>\n",
       "      <td>0</td>\n",
       "      <td>Sunday</td>\n",
       "      <td>0</td>\n",
       "      <td>Mist_cloudy</td>\n",
       "      <td>14.902598</td>\n",
       "      <td>69.6087</td>\n",
       "      <td>16.652113</td>\n",
       "      <td>801</td>\n",
       "    </tr>\n",
       "    <tr>\n",
       "      <th>2</th>\n",
       "      <td>spring</td>\n",
       "      <td>0</td>\n",
       "      <td>January</td>\n",
       "      <td>0</td>\n",
       "      <td>Monday</td>\n",
       "      <td>1</td>\n",
       "      <td>Clear_Few Clouds</td>\n",
       "      <td>8.050924</td>\n",
       "      <td>43.7273</td>\n",
       "      <td>16.636703</td>\n",
       "      <td>1349</td>\n",
       "    </tr>\n",
       "    <tr>\n",
       "      <th>3</th>\n",
       "      <td>spring</td>\n",
       "      <td>0</td>\n",
       "      <td>January</td>\n",
       "      <td>0</td>\n",
       "      <td>Tuesday</td>\n",
       "      <td>1</td>\n",
       "      <td>Clear_Few Clouds</td>\n",
       "      <td>8.200000</td>\n",
       "      <td>59.0435</td>\n",
       "      <td>10.739832</td>\n",
       "      <td>1562</td>\n",
       "    </tr>\n",
       "    <tr>\n",
       "      <th>4</th>\n",
       "      <td>spring</td>\n",
       "      <td>0</td>\n",
       "      <td>January</td>\n",
       "      <td>0</td>\n",
       "      <td>Wednesday</td>\n",
       "      <td>1</td>\n",
       "      <td>Clear_Few Clouds</td>\n",
       "      <td>9.305237</td>\n",
       "      <td>43.6957</td>\n",
       "      <td>12.522300</td>\n",
       "      <td>1600</td>\n",
       "    </tr>\n",
       "  </tbody>\n",
       "</table>\n",
       "</div>"
      ],
      "text/plain": [
       "   season  yr     mnth  holiday    weekday  workingday        weathersit  \\\n",
       "0  spring   0  January        0   Saturday           0       Mist_cloudy   \n",
       "1  spring   0  January        0     Sunday           0       Mist_cloudy   \n",
       "2  spring   0  January        0     Monday           1  Clear_Few Clouds   \n",
       "3  spring   0  January        0    Tuesday           1  Clear_Few Clouds   \n",
       "4  spring   0  January        0  Wednesday           1  Clear_Few Clouds   \n",
       "\n",
       "        temp      hum  windspeed   cnt  \n",
       "0  14.110847  80.5833  10.749882   985  \n",
       "1  14.902598  69.6087  16.652113   801  \n",
       "2   8.050924  43.7273  16.636703  1349  \n",
       "3   8.200000  59.0435  10.739832  1562  \n",
       "4   9.305237  43.6957  12.522300  1600  "
      ]
     },
     "execution_count": 15,
     "metadata": {},
     "output_type": "execute_result"
    }
   ],
   "source": [
    "# check the head of the dataset after mapping the non-binary categorical columns\n",
    "df1.head()"
   ]
  },
  {
   "cell_type": "markdown",
   "id": "538f1177",
   "metadata": {},
   "source": [
    "# Segmentation of columns"
   ]
  },
  {
   "cell_type": "code",
   "execution_count": 16,
   "id": "e72aa198",
   "metadata": {},
   "outputs": [
    {
     "data": {
      "text/plain": [
       "11"
      ]
     },
     "execution_count": 16,
     "metadata": {},
     "output_type": "execute_result"
    }
   ],
   "source": [
    "#Separating a variable into categorical and continuous columns.\n",
    "cat_cols = ['season','yr','mnth','holiday','weekday','workingday','weathersit']\n",
    "cont_cols = ['temp','hum','windspeed']\n",
    "target_cols=['cnt']\n",
    "len(cat_cols)+len(cont_cols)+len(target_cols)"
   ]
  },
  {
   "cell_type": "markdown",
   "id": "f1b10738",
   "metadata": {},
   "source": [
    "# Exploratory data analysis (EDA)"
   ]
  },
  {
   "cell_type": "code",
   "execution_count": 17,
   "id": "ecd7a8c6",
   "metadata": {},
   "outputs": [
    {
     "data": {
      "text/plain": [
       "<bound method DataFrame.nunique of      season  yr      mnth  holiday    weekday  workingday        weathersit  \\\n",
       "0    spring   0   January        0   Saturday           0       Mist_cloudy   \n",
       "1    spring   0   January        0     Sunday           0       Mist_cloudy   \n",
       "2    spring   0   January        0     Monday           1  Clear_Few Clouds   \n",
       "3    spring   0   January        0    Tuesday           1  Clear_Few Clouds   \n",
       "4    spring   0   January        0  Wednesday           1  Clear_Few Clouds   \n",
       "..      ...  ..       ...      ...        ...         ...               ...   \n",
       "725  spring   1  December        0   Thursday           1       Mist_cloudy   \n",
       "726  spring   1  December        0     Friday           1       Mist_cloudy   \n",
       "727  spring   1  December        0   Saturday           0       Mist_cloudy   \n",
       "728  spring   1  December        0     Sunday           0  Clear_Few Clouds   \n",
       "729  spring   1  December        0     Monday           1       Mist_cloudy   \n",
       "\n",
       "          temp      hum  windspeed   cnt  \n",
       "0    14.110847  80.5833  10.749882   985  \n",
       "1    14.902598  69.6087  16.652113   801  \n",
       "2     8.050924  43.7273  16.636703  1349  \n",
       "3     8.200000  59.0435  10.739832  1562  \n",
       "4     9.305237  43.6957  12.522300  1600  \n",
       "..         ...      ...        ...   ...  \n",
       "725  10.420847  65.2917  23.458911  2114  \n",
       "726  10.386653  59.0000  10.416557  3095  \n",
       "727  10.386653  75.2917   8.333661  1341  \n",
       "728  10.489153  48.3333  23.500518  1796  \n",
       "729   8.849153  57.7500  10.374682  2729  \n",
       "\n",
       "[730 rows x 11 columns]>"
      ]
     },
     "execution_count": 17,
     "metadata": {},
     "output_type": "execute_result"
    }
   ],
   "source": [
    "df1.nunique"
   ]
  },
  {
   "cell_type": "markdown",
   "id": "63a8c294",
   "metadata": {},
   "source": [
    "# Univariate Analysis"
   ]
  },
  {
   "cell_type": "code",
   "execution_count": 18,
   "id": "9ff6b951",
   "metadata": {},
   "outputs": [
    {
     "data": {
      "image/png": "[encoded data removed]",
      "text/plain": [
       "<Figure size 432x288 with 1 Axes>"
      ]
     },
     "metadata": {
      "needs_background": "light"
     },
     "output_type": "display_data"
    },
    {
     "data": {
      "image/png": "[encoded data removed]",
      "text/plain": [
       "<Figure size 432x288 with 1 Axes>"
      ]
     },
     "metadata": {
      "needs_background": "light"
     },
     "output_type": "display_data"
    },
    {
     "data": {
      "image/png": "[encoded data removed]",
      "text/plain": [
       "<Figure size 432x288 with 1 Axes>"
      ]
     },
     "metadata": {
      "needs_background": "light"
     },
     "output_type": "display_data"
    }
   ],
   "source": [
    "# using the Seaborn library to display univariate histogram plots for continuous columns\n",
    "for i in cont_cols:\n",
    "    sns.histplot(df1[i])\n",
    "    plt.show()"
   ]
  },
  {
   "cell_type": "code",
   "execution_count": 19,
   "id": "fb6f0a8e",
   "metadata": {},
   "outputs": [
    {
     "data": {
      "image/png": "[encoded data removed]",
      "text/plain": [
       "<Figure size 432x288 with 1 Axes>"
      ]
     },
     "metadata": {
      "needs_background": "light"
     },
     "output_type": "display_data"
    },
    {
     "data": {
      "image/png": "[encoded data removed]",
      "text/plain": [
       "<Figure size 432x288 with 1 Axes>"
      ]
     },
     "metadata": {
      "needs_background": "light"
     },
     "output_type": "display_data"
    },
    {
     "data": {
      "image/png": "[encoded data removed]",
      "text/plain": [
       "<Figure size 432x288 with 1 Axes>"
      ]
     },
     "metadata": {
      "needs_background": "light"
     },
     "output_type": "display_data"
    },
    {
     "data": {
      "image/png": "[encoded data removed]",
      "text/plain": [
       "<Figure size 432x288 with 1 Axes>"
      ]
     },
     "metadata": {
      "needs_background": "light"
     },
     "output_type": "display_data"
    },
    {
     "data": {
      "image/png": "[encoded data removed]",
      "text/plain": [
       "<Figure size 432x288 with 1 Axes>"
      ]
     },
     "metadata": {
      "needs_background": "light"
     },
     "output_type": "display_data"
    },
    {
     "data": {
      "image/png": "[encoded data removed]",
      "text/plain": [
       "<Figure size 432x288 with 1 Axes>"
      ]
     },
     "metadata": {
      "needs_background": "light"
     },
     "output_type": "display_data"
    },
    {
     "data": {
      "image/png": "[encoded data removed]",
      "text/plain": [
       "<Figure size 432x288 with 1 Axes>"
      ]
     },
     "metadata": {
      "needs_background": "light"
     },
     "output_type": "display_data"
    }
   ],
   "source": [
    "#Using a loop to display count plots for univariate categorical columns.\n",
    "for i in cat_cols:\n",
    "    sns.countplot(x=df1[i])\n",
    "    plt.show()"
   ]
  },
  {
   "cell_type": "markdown",
   "id": "69a0901a",
   "metadata": {},
   "source": [
    "# Bivariate Analysis"
   ]
  },
  {
   "cell_type": "code",
   "execution_count": 20,
   "id": "df20e8d4",
   "metadata": {},
   "outputs": [
    {
     "data": {
      "image/png": "[encoded data removed]",
      "text/plain": [
       "<Figure size 432x288 with 1 Axes>"
      ]
     },
     "metadata": {
      "needs_background": "light"
     },
     "output_type": "display_data"
    },
    {
     "data": {
      "image/png": "[encoded data removed]",
      "text/plain": [
       "<Figure size 432x288 with 1 Axes>"
      ]
     },
     "metadata": {
      "needs_background": "light"
     },
     "output_type": "display_data"
    },
    {
     "data": {
      "image/png": "[encoded data removed]",
      "text/plain": [
       "<Figure size 432x288 with 1 Axes>"
      ]
     },
     "metadata": {
      "needs_background": "light"
     },
     "output_type": "display_data"
    }
   ],
   "source": [
    "# Analyzing the relationship between continuous columns and the target variable.\n",
    "for i in cont_cols:\n",
    "    sns.scatterplot(x=df1[i],y=df1[\"cnt\"])\n",
    "    plt.show()"
   ]
  },
  {
   "cell_type": "markdown",
   "id": "64eaca4b",
   "metadata": {},
   "source": [
    "# Multivariate Analysis"
   ]
  },
  {
   "cell_type": "code",
   "execution_count": 21,
   "id": "cdae70cf",
   "metadata": {},
   "outputs": [
    {
     "data": {
      "image/png": "[encoded data removed]",
      "text/plain": [
       "<Figure size 540x540 with 12 Axes>"
      ]
     },
     "metadata": {
      "needs_background": "light"
     },
     "output_type": "display_data"
    }
   ],
   "source": [
    "# Using the Seaborn library for multivariate analysis by creating pairplot between all the continuous columns\n",
    "sns.pairplot(df1[cont_cols])\n",
    "plt.show()"
   ]
  },
  {
   "cell_type": "markdown",
   "id": "823d411d",
   "metadata": {},
   "source": [
    "# Checking correlation coefficient"
   ]
  },
  {
   "cell_type": "code",
   "execution_count": 22,
   "id": "cee96c0b",
   "metadata": {},
   "outputs": [
    {
     "data": {
      "image/png": "[encoded data removed]",
      "text/plain": [
       "<Figure size 720x360 with 2 Axes>"
      ]
     },
     "metadata": {
      "needs_background": "light"
     },
     "output_type": "display_data"
    }
   ],
   "source": [
    "#Visualizing the relationship between variables and the target column using a heatmap.\n",
    "plt.figure(figsize=(10,5))\n",
    "sns.heatmap(df1[cont_cols+['cnt']].corr(),annot=True)\n",
    "plt.show()"
   ]
  },
  {
   "cell_type": "markdown",
   "id": "4722ea58",
   "metadata": {},
   "source": [
    "# Pre-processing step"
   ]
  },
  {
   "cell_type": "markdown",
   "id": "ed5f9722",
   "metadata": {},
   "source": [
    "# Creation of dummy variable "
   ]
  },
  {
   "cell_type": "code",
   "execution_count": 23,
   "id": "c9b0e716",
   "metadata": {},
   "outputs": [
    {
     "data": {
      "text/plain": [
       "season         4\n",
       "yr             2\n",
       "mnth          12\n",
       "holiday        2\n",
       "weekday        7\n",
       "workingday     2\n",
       "weathersit     3\n",
       "dtype: int64"
      ]
     },
     "execution_count": 23,
     "metadata": {},
     "output_type": "execute_result"
    }
   ],
   "source": [
    "# Only for non binary categorical columns\n",
    "df1[cat_cols].nunique()"
   ]
  },
  {
   "cell_type": "code",
   "execution_count": 24,
   "id": "2afb37a9",
   "metadata": {},
   "outputs": [],
   "source": [
    "#Dummy variables for season, mnth, weekday, weathersit\n",
    "dum1=pd.get_dummies(df1.season,drop_first=True)\n",
    "dum2=pd.get_dummies(df1.mnth,drop_first=True)\n",
    "dum3=pd.get_dummies(df1.weekday,drop_first=True)\n",
    "dum4=pd.get_dummies(df1.weathersit,drop_first=True)"
   ]
  },
  {
   "cell_type": "code",
   "execution_count": 25,
   "id": "6834a78d",
   "metadata": {},
   "outputs": [
    {
     "data": {
      "text/html": [
       "<div>\n",
       "<style scoped>\n",
       "    .dataframe tbody tr th:only-of-type {\n",
       "        vertical-align: middle;\n",
       "    }\n",
       "\n",
       "    .dataframe tbody tr th {\n",
       "        vertical-align: top;\n",
       "    }\n",
       "\n",
       "    .dataframe thead th {\n",
       "        text-align: right;\n",
       "    }\n",
       "</style>\n",
       "<table border=\"1\" class=\"dataframe\">\n",
       "  <thead>\n",
       "    <tr style=\"text-align: right;\">\n",
       "      <th></th>\n",
       "      <th>spring</th>\n",
       "      <th>summer</th>\n",
       "      <th>winter</th>\n",
       "      <th>August</th>\n",
       "      <th>December</th>\n",
       "      <th>Feburary</th>\n",
       "      <th>January</th>\n",
       "      <th>July</th>\n",
       "      <th>June</th>\n",
       "      <th>March</th>\n",
       "      <th>...</th>\n",
       "      <th>yr</th>\n",
       "      <th>mnth</th>\n",
       "      <th>holiday</th>\n",
       "      <th>weekday</th>\n",
       "      <th>workingday</th>\n",
       "      <th>weathersit</th>\n",
       "      <th>temp</th>\n",
       "      <th>hum</th>\n",
       "      <th>windspeed</th>\n",
       "      <th>cnt</th>\n",
       "    </tr>\n",
       "  </thead>\n",
       "  <tbody>\n",
       "    <tr>\n",
       "      <th>0</th>\n",
       "      <td>1</td>\n",
       "      <td>0</td>\n",
       "      <td>0</td>\n",
       "      <td>0</td>\n",
       "      <td>0</td>\n",
       "      <td>0</td>\n",
       "      <td>1</td>\n",
       "      <td>0</td>\n",
       "      <td>0</td>\n",
       "      <td>0</td>\n",
       "      <td>...</td>\n",
       "      <td>0</td>\n",
       "      <td>January</td>\n",
       "      <td>0</td>\n",
       "      <td>Saturday</td>\n",
       "      <td>0</td>\n",
       "      <td>Mist_cloudy</td>\n",
       "      <td>14.110847</td>\n",
       "      <td>80.5833</td>\n",
       "      <td>10.749882</td>\n",
       "      <td>985</td>\n",
       "    </tr>\n",
       "    <tr>\n",
       "      <th>1</th>\n",
       "      <td>1</td>\n",
       "      <td>0</td>\n",
       "      <td>0</td>\n",
       "      <td>0</td>\n",
       "      <td>0</td>\n",
       "      <td>0</td>\n",
       "      <td>1</td>\n",
       "      <td>0</td>\n",
       "      <td>0</td>\n",
       "      <td>0</td>\n",
       "      <td>...</td>\n",
       "      <td>0</td>\n",
       "      <td>January</td>\n",
       "      <td>0</td>\n",
       "      <td>Sunday</td>\n",
       "      <td>0</td>\n",
       "      <td>Mist_cloudy</td>\n",
       "      <td>14.902598</td>\n",
       "      <td>69.6087</td>\n",
       "      <td>16.652113</td>\n",
       "      <td>801</td>\n",
       "    </tr>\n",
       "    <tr>\n",
       "      <th>2</th>\n",
       "      <td>1</td>\n",
       "      <td>0</td>\n",
       "      <td>0</td>\n",
       "      <td>0</td>\n",
       "      <td>0</td>\n",
       "      <td>0</td>\n",
       "      <td>1</td>\n",
       "      <td>0</td>\n",
       "      <td>0</td>\n",
       "      <td>0</td>\n",
       "      <td>...</td>\n",
       "      <td>0</td>\n",
       "      <td>January</td>\n",
       "      <td>0</td>\n",
       "      <td>Monday</td>\n",
       "      <td>1</td>\n",
       "      <td>Clear_Few Clouds</td>\n",
       "      <td>8.050924</td>\n",
       "      <td>43.7273</td>\n",
       "      <td>16.636703</td>\n",
       "      <td>1349</td>\n",
       "    </tr>\n",
       "    <tr>\n",
       "      <th>3</th>\n",
       "      <td>1</td>\n",
       "      <td>0</td>\n",
       "      <td>0</td>\n",
       "      <td>0</td>\n",
       "      <td>0</td>\n",
       "      <td>0</td>\n",
       "      <td>1</td>\n",
       "      <td>0</td>\n",
       "      <td>0</td>\n",
       "      <td>0</td>\n",
       "      <td>...</td>\n",
       "      <td>0</td>\n",
       "      <td>January</td>\n",
       "      <td>0</td>\n",
       "      <td>Tuesday</td>\n",
       "      <td>1</td>\n",
       "      <td>Clear_Few Clouds</td>\n",
       "      <td>8.200000</td>\n",
       "      <td>59.0435</td>\n",
       "      <td>10.739832</td>\n",
       "      <td>1562</td>\n",
       "    </tr>\n",
       "    <tr>\n",
       "      <th>4</th>\n",
       "      <td>1</td>\n",
       "      <td>0</td>\n",
       "      <td>0</td>\n",
       "      <td>0</td>\n",
       "      <td>0</td>\n",
       "      <td>0</td>\n",
       "      <td>1</td>\n",
       "      <td>0</td>\n",
       "      <td>0</td>\n",
       "      <td>0</td>\n",
       "      <td>...</td>\n",
       "      <td>0</td>\n",
       "      <td>January</td>\n",
       "      <td>0</td>\n",
       "      <td>Wednesday</td>\n",
       "      <td>1</td>\n",
       "      <td>Clear_Few Clouds</td>\n",
       "      <td>9.305237</td>\n",
       "      <td>43.6957</td>\n",
       "      <td>12.522300</td>\n",
       "      <td>1600</td>\n",
       "    </tr>\n",
       "  </tbody>\n",
       "</table>\n",
       "<p>5 rows × 33 columns</p>\n",
       "</div>"
      ],
      "text/plain": [
       "   spring  summer  winter  August  December  Feburary  January  July  June  \\\n",
       "0       1       0       0       0         0         0        1     0     0   \n",
       "1       1       0       0       0         0         0        1     0     0   \n",
       "2       1       0       0       0         0         0        1     0     0   \n",
       "3       1       0       0       0         0         0        1     0     0   \n",
       "4       1       0       0       0         0         0        1     0     0   \n",
       "\n",
       "   March  ...  yr     mnth  holiday    weekday  workingday        weathersit  \\\n",
       "0      0  ...   0  January        0   Saturday           0       Mist_cloudy   \n",
       "1      0  ...   0  January        0     Sunday           0       Mist_cloudy   \n",
       "2      0  ...   0  January        0     Monday           1  Clear_Few Clouds   \n",
       "3      0  ...   0  January        0    Tuesday           1  Clear_Few Clouds   \n",
       "4      0  ...   0  January        0  Wednesday           1  Clear_Few Clouds   \n",
       "\n",
       "        temp      hum  windspeed   cnt  \n",
       "0  14.110847  80.5833  10.749882   985  \n",
       "1  14.902598  69.6087  16.652113   801  \n",
       "2   8.050924  43.7273  16.636703  1349  \n",
       "3   8.200000  59.0435  10.739832  1562  \n",
       "4   9.305237  43.6957  12.522300  1600  \n",
       "\n",
       "[5 rows x 33 columns]"
      ]
     },
     "execution_count": 25,
     "metadata": {},
     "output_type": "execute_result"
    }
   ],
   "source": [
    "# Combining the results into a dataframe.\n",
    "data_df=pd.concat([dum1,dum2,dum3,dum4,df1],axis=1)\n",
    "data_df.head()"
   ]
  },
  {
   "cell_type": "code",
   "execution_count": 26,
   "id": "8d7f93ab",
   "metadata": {},
   "outputs": [
    {
     "data": {
      "text/html": [
       "<div>\n",
       "<style scoped>\n",
       "    .dataframe tbody tr th:only-of-type {\n",
       "        vertical-align: middle;\n",
       "    }\n",
       "\n",
       "    .dataframe tbody tr th {\n",
       "        vertical-align: top;\n",
       "    }\n",
       "\n",
       "    .dataframe thead th {\n",
       "        text-align: right;\n",
       "    }\n",
       "</style>\n",
       "<table border=\"1\" class=\"dataframe\">\n",
       "  <thead>\n",
       "    <tr style=\"text-align: right;\">\n",
       "      <th></th>\n",
       "      <th>spring</th>\n",
       "      <th>summer</th>\n",
       "      <th>winter</th>\n",
       "      <th>August</th>\n",
       "      <th>December</th>\n",
       "      <th>Feburary</th>\n",
       "      <th>January</th>\n",
       "      <th>July</th>\n",
       "      <th>June</th>\n",
       "      <th>March</th>\n",
       "      <th>...</th>\n",
       "      <th>Wednesday</th>\n",
       "      <th>Light rain_Light snow_Thunderstorm</th>\n",
       "      <th>Mist_cloudy</th>\n",
       "      <th>yr</th>\n",
       "      <th>holiday</th>\n",
       "      <th>workingday</th>\n",
       "      <th>temp</th>\n",
       "      <th>hum</th>\n",
       "      <th>windspeed</th>\n",
       "      <th>cnt</th>\n",
       "    </tr>\n",
       "  </thead>\n",
       "  <tbody>\n",
       "    <tr>\n",
       "      <th>0</th>\n",
       "      <td>1</td>\n",
       "      <td>0</td>\n",
       "      <td>0</td>\n",
       "      <td>0</td>\n",
       "      <td>0</td>\n",
       "      <td>0</td>\n",
       "      <td>1</td>\n",
       "      <td>0</td>\n",
       "      <td>0</td>\n",
       "      <td>0</td>\n",
       "      <td>...</td>\n",
       "      <td>0</td>\n",
       "      <td>0</td>\n",
       "      <td>1</td>\n",
       "      <td>0</td>\n",
       "      <td>0</td>\n",
       "      <td>0</td>\n",
       "      <td>14.110847</td>\n",
       "      <td>80.5833</td>\n",
       "      <td>10.749882</td>\n",
       "      <td>985</td>\n",
       "    </tr>\n",
       "    <tr>\n",
       "      <th>1</th>\n",
       "      <td>1</td>\n",
       "      <td>0</td>\n",
       "      <td>0</td>\n",
       "      <td>0</td>\n",
       "      <td>0</td>\n",
       "      <td>0</td>\n",
       "      <td>1</td>\n",
       "      <td>0</td>\n",
       "      <td>0</td>\n",
       "      <td>0</td>\n",
       "      <td>...</td>\n",
       "      <td>0</td>\n",
       "      <td>0</td>\n",
       "      <td>1</td>\n",
       "      <td>0</td>\n",
       "      <td>0</td>\n",
       "      <td>0</td>\n",
       "      <td>14.902598</td>\n",
       "      <td>69.6087</td>\n",
       "      <td>16.652113</td>\n",
       "      <td>801</td>\n",
       "    </tr>\n",
       "    <tr>\n",
       "      <th>2</th>\n",
       "      <td>1</td>\n",
       "      <td>0</td>\n",
       "      <td>0</td>\n",
       "      <td>0</td>\n",
       "      <td>0</td>\n",
       "      <td>0</td>\n",
       "      <td>1</td>\n",
       "      <td>0</td>\n",
       "      <td>0</td>\n",
       "      <td>0</td>\n",
       "      <td>...</td>\n",
       "      <td>0</td>\n",
       "      <td>0</td>\n",
       "      <td>0</td>\n",
       "      <td>0</td>\n",
       "      <td>0</td>\n",
       "      <td>1</td>\n",
       "      <td>8.050924</td>\n",
       "      <td>43.7273</td>\n",
       "      <td>16.636703</td>\n",
       "      <td>1349</td>\n",
       "    </tr>\n",
       "    <tr>\n",
       "      <th>3</th>\n",
       "      <td>1</td>\n",
       "      <td>0</td>\n",
       "      <td>0</td>\n",
       "      <td>0</td>\n",
       "      <td>0</td>\n",
       "      <td>0</td>\n",
       "      <td>1</td>\n",
       "      <td>0</td>\n",
       "      <td>0</td>\n",
       "      <td>0</td>\n",
       "      <td>...</td>\n",
       "      <td>0</td>\n",
       "      <td>0</td>\n",
       "      <td>0</td>\n",
       "      <td>0</td>\n",
       "      <td>0</td>\n",
       "      <td>1</td>\n",
       "      <td>8.200000</td>\n",
       "      <td>59.0435</td>\n",
       "      <td>10.739832</td>\n",
       "      <td>1562</td>\n",
       "    </tr>\n",
       "    <tr>\n",
       "      <th>4</th>\n",
       "      <td>1</td>\n",
       "      <td>0</td>\n",
       "      <td>0</td>\n",
       "      <td>0</td>\n",
       "      <td>0</td>\n",
       "      <td>0</td>\n",
       "      <td>1</td>\n",
       "      <td>0</td>\n",
       "      <td>0</td>\n",
       "      <td>0</td>\n",
       "      <td>...</td>\n",
       "      <td>1</td>\n",
       "      <td>0</td>\n",
       "      <td>0</td>\n",
       "      <td>0</td>\n",
       "      <td>0</td>\n",
       "      <td>1</td>\n",
       "      <td>9.305237</td>\n",
       "      <td>43.6957</td>\n",
       "      <td>12.522300</td>\n",
       "      <td>1600</td>\n",
       "    </tr>\n",
       "  </tbody>\n",
       "</table>\n",
       "<p>5 rows × 29 columns</p>\n",
       "</div>"
      ],
      "text/plain": [
       "   spring  summer  winter  August  December  Feburary  January  July  June  \\\n",
       "0       1       0       0       0         0         0        1     0     0   \n",
       "1       1       0       0       0         0         0        1     0     0   \n",
       "2       1       0       0       0         0         0        1     0     0   \n",
       "3       1       0       0       0         0         0        1     0     0   \n",
       "4       1       0       0       0         0         0        1     0     0   \n",
       "\n",
       "   March  ...  Wednesday  Light rain_Light snow_Thunderstorm  Mist_cloudy  yr  \\\n",
       "0      0  ...          0                                   0            1   0   \n",
       "1      0  ...          0                                   0            1   0   \n",
       "2      0  ...          0                                   0            0   0   \n",
       "3      0  ...          0                                   0            0   0   \n",
       "4      0  ...          1                                   0            0   0   \n",
       "\n",
       "   holiday  workingday       temp      hum  windspeed   cnt  \n",
       "0        0           0  14.110847  80.5833  10.749882   985  \n",
       "1        0           0  14.902598  69.6087  16.652113   801  \n",
       "2        0           1   8.050924  43.7273  16.636703  1349  \n",
       "3        0           1   8.200000  59.0435  10.739832  1562  \n",
       "4        0           1   9.305237  43.6957  12.522300  1600  \n",
       "\n",
       "[5 rows x 29 columns]"
      ]
     },
     "execution_count": 26,
     "metadata": {},
     "output_type": "execute_result"
    }
   ],
   "source": [
    "# Drop 'season','mnth','weekday','weathersit' \n",
    "data_df.drop(['season','mnth','weekday','weathersit'],axis=1,inplace=True)\n",
    "data_df.head()"
   ]
  },
  {
   "cell_type": "markdown",
   "id": "9324186d",
   "metadata": {},
   "source": [
    "# Train-Test Split"
   ]
  },
  {
   "cell_type": "code",
   "execution_count": 27,
   "id": "674d73d0",
   "metadata": {},
   "outputs": [],
   "source": [
    "#Separating the independent and dependent variables.\n",
    "x=data_df.drop([\"cnt\"],axis=1)\n",
    "y=data_df[\"cnt\"]"
   ]
  },
  {
   "cell_type": "code",
   "execution_count": 28,
   "id": "6a19521d",
   "metadata": {},
   "outputs": [],
   "source": [
    "#Importing the library for splitting the dataset into train and test sets\n",
    "from sklearn.model_selection import train_test_split\n",
    "\n",
    "#Splitting data into training and testing sets to develop and evaluate machine learning models\n",
    "x_train,x_test,y_train,y_test=train_test_split(x,y,test_size=0.3,random_state=100)\n"
   ]
  },
  {
   "cell_type": "code",
   "execution_count": 29,
   "id": "0b20fee8",
   "metadata": {},
   "outputs": [
    {
     "data": {
      "text/plain": [
       "(511, 28)"
      ]
     },
     "execution_count": 29,
     "metadata": {},
     "output_type": "execute_result"
    }
   ],
   "source": [
    "x_train.shape"
   ]
  },
  {
   "cell_type": "code",
   "execution_count": 30,
   "id": "2239a0bf",
   "metadata": {},
   "outputs": [
    {
     "data": {
      "text/plain": [
       "(219, 28)"
      ]
     },
     "execution_count": 30,
     "metadata": {},
     "output_type": "execute_result"
    }
   ],
   "source": [
    "x_test.shape"
   ]
  },
  {
   "cell_type": "code",
   "execution_count": 31,
   "id": "ad72f049",
   "metadata": {},
   "outputs": [
    {
     "data": {
      "text/plain": [
       "(511,)"
      ]
     },
     "execution_count": 31,
     "metadata": {},
     "output_type": "execute_result"
    }
   ],
   "source": [
    "y_train.shape"
   ]
  },
  {
   "cell_type": "code",
   "execution_count": 32,
   "id": "8f65eb47",
   "metadata": {},
   "outputs": [
    {
     "data": {
      "text/plain": [
       "(219,)"
      ]
     },
     "execution_count": 32,
     "metadata": {},
     "output_type": "execute_result"
    }
   ],
   "source": [
    "y_test.shape"
   ]
  },
  {
   "cell_type": "markdown",
   "id": "ec36b123",
   "metadata": {},
   "source": [
    "# Scaling"
   ]
  },
  {
   "cell_type": "code",
   "execution_count": 33,
   "id": "c07d2fc2",
   "metadata": {},
   "outputs": [],
   "source": [
    "#Importing the MinMaxScaler library from scaling\n",
    "from sklearn.preprocessing import MinMaxScaler "
   ]
  },
  {
   "cell_type": "code",
   "execution_count": 34,
   "id": "1971d19e",
   "metadata": {},
   "outputs": [],
   "source": [
    "#Instantiating an object\n",
    "scaler = MinMaxScaler()"
   ]
  },
  {
   "cell_type": "code",
   "execution_count": 35,
   "id": "789fc3e7",
   "metadata": {},
   "outputs": [
    {
     "data": {
      "text/html": [
       "<div>\n",
       "<style scoped>\n",
       "    .dataframe tbody tr th:only-of-type {\n",
       "        vertical-align: middle;\n",
       "    }\n",
       "\n",
       "    .dataframe tbody tr th {\n",
       "        vertical-align: top;\n",
       "    }\n",
       "\n",
       "    .dataframe thead th {\n",
       "        text-align: right;\n",
       "    }\n",
       "</style>\n",
       "<table border=\"1\" class=\"dataframe\">\n",
       "  <thead>\n",
       "    <tr style=\"text-align: right;\">\n",
       "      <th></th>\n",
       "      <th>spring</th>\n",
       "      <th>summer</th>\n",
       "      <th>winter</th>\n",
       "      <th>August</th>\n",
       "      <th>December</th>\n",
       "      <th>Feburary</th>\n",
       "      <th>January</th>\n",
       "      <th>July</th>\n",
       "      <th>June</th>\n",
       "      <th>March</th>\n",
       "      <th>...</th>\n",
       "      <th>Tuesday</th>\n",
       "      <th>Wednesday</th>\n",
       "      <th>Light rain_Light snow_Thunderstorm</th>\n",
       "      <th>Mist_cloudy</th>\n",
       "      <th>yr</th>\n",
       "      <th>holiday</th>\n",
       "      <th>workingday</th>\n",
       "      <th>temp</th>\n",
       "      <th>hum</th>\n",
       "      <th>windspeed</th>\n",
       "    </tr>\n",
       "  </thead>\n",
       "  <tbody>\n",
       "    <tr>\n",
       "      <th>653</th>\n",
       "      <td>0</td>\n",
       "      <td>0</td>\n",
       "      <td>1</td>\n",
       "      <td>0</td>\n",
       "      <td>0</td>\n",
       "      <td>0</td>\n",
       "      <td>0</td>\n",
       "      <td>0</td>\n",
       "      <td>0</td>\n",
       "      <td>0</td>\n",
       "      <td>...</td>\n",
       "      <td>1</td>\n",
       "      <td>0</td>\n",
       "      <td>0</td>\n",
       "      <td>0</td>\n",
       "      <td>1</td>\n",
       "      <td>0</td>\n",
       "      <td>1</td>\n",
       "      <td>0.509887</td>\n",
       "      <td>0.575354</td>\n",
       "      <td>0.300794</td>\n",
       "    </tr>\n",
       "    <tr>\n",
       "      <th>576</th>\n",
       "      <td>0</td>\n",
       "      <td>0</td>\n",
       "      <td>0</td>\n",
       "      <td>0</td>\n",
       "      <td>0</td>\n",
       "      <td>0</td>\n",
       "      <td>0</td>\n",
       "      <td>1</td>\n",
       "      <td>0</td>\n",
       "      <td>0</td>\n",
       "      <td>...</td>\n",
       "      <td>1</td>\n",
       "      <td>0</td>\n",
       "      <td>0</td>\n",
       "      <td>0</td>\n",
       "      <td>1</td>\n",
       "      <td>0</td>\n",
       "      <td>1</td>\n",
       "      <td>0.815169</td>\n",
       "      <td>0.725633</td>\n",
       "      <td>0.264686</td>\n",
       "    </tr>\n",
       "    <tr>\n",
       "      <th>426</th>\n",
       "      <td>1</td>\n",
       "      <td>0</td>\n",
       "      <td>0</td>\n",
       "      <td>0</td>\n",
       "      <td>0</td>\n",
       "      <td>0</td>\n",
       "      <td>0</td>\n",
       "      <td>0</td>\n",
       "      <td>0</td>\n",
       "      <td>1</td>\n",
       "      <td>...</td>\n",
       "      <td>0</td>\n",
       "      <td>0</td>\n",
       "      <td>0</td>\n",
       "      <td>1</td>\n",
       "      <td>1</td>\n",
       "      <td>0</td>\n",
       "      <td>0</td>\n",
       "      <td>0.442393</td>\n",
       "      <td>0.640189</td>\n",
       "      <td>0.255342</td>\n",
       "    </tr>\n",
       "    <tr>\n",
       "      <th>728</th>\n",
       "      <td>1</td>\n",
       "      <td>0</td>\n",
       "      <td>0</td>\n",
       "      <td>0</td>\n",
       "      <td>1</td>\n",
       "      <td>0</td>\n",
       "      <td>0</td>\n",
       "      <td>0</td>\n",
       "      <td>0</td>\n",
       "      <td>0</td>\n",
       "      <td>...</td>\n",
       "      <td>0</td>\n",
       "      <td>0</td>\n",
       "      <td>0</td>\n",
       "      <td>0</td>\n",
       "      <td>1</td>\n",
       "      <td>0</td>\n",
       "      <td>0</td>\n",
       "      <td>0.245101</td>\n",
       "      <td>0.498067</td>\n",
       "      <td>0.663106</td>\n",
       "    </tr>\n",
       "    <tr>\n",
       "      <th>482</th>\n",
       "      <td>0</td>\n",
       "      <td>1</td>\n",
       "      <td>0</td>\n",
       "      <td>0</td>\n",
       "      <td>0</td>\n",
       "      <td>0</td>\n",
       "      <td>0</td>\n",
       "      <td>0</td>\n",
       "      <td>0</td>\n",
       "      <td>0</td>\n",
       "      <td>...</td>\n",
       "      <td>0</td>\n",
       "      <td>0</td>\n",
       "      <td>0</td>\n",
       "      <td>1</td>\n",
       "      <td>1</td>\n",
       "      <td>0</td>\n",
       "      <td>0</td>\n",
       "      <td>0.395666</td>\n",
       "      <td>0.504508</td>\n",
       "      <td>0.188475</td>\n",
       "    </tr>\n",
       "  </tbody>\n",
       "</table>\n",
       "<p>5 rows × 28 columns</p>\n",
       "</div>"
      ],
      "text/plain": [
       "     spring  summer  winter  August  December  Feburary  January  July  June  \\\n",
       "653       0       0       1       0         0         0        0     0     0   \n",
       "576       0       0       0       0         0         0        0     1     0   \n",
       "426       1       0       0       0         0         0        0     0     0   \n",
       "728       1       0       0       0         1         0        0     0     0   \n",
       "482       0       1       0       0         0         0        0     0     0   \n",
       "\n",
       "     March  ...  Tuesday  Wednesday  Light rain_Light snow_Thunderstorm  \\\n",
       "653      0  ...        1          0                                   0   \n",
       "576      0  ...        1          0                                   0   \n",
       "426      1  ...        0          0                                   0   \n",
       "728      0  ...        0          0                                   0   \n",
       "482      0  ...        0          0                                   0   \n",
       "\n",
       "     Mist_cloudy  yr  holiday  workingday      temp       hum  windspeed  \n",
       "653            0   1        0           1  0.509887  0.575354   0.300794  \n",
       "576            0   1        0           1  0.815169  0.725633   0.264686  \n",
       "426            1   1        0           0  0.442393  0.640189   0.255342  \n",
       "728            0   1        0           0  0.245101  0.498067   0.663106  \n",
       "482            1   1        0           0  0.395666  0.504508   0.188475  \n",
       "\n",
       "[5 rows x 28 columns]"
      ]
     },
     "execution_count": 35,
     "metadata": {},
     "output_type": "execute_result"
    }
   ],
   "source": [
    "#Scaling the continuous variables in x_train using MinMaxScaler and displaying the first few rows of the resulting dataframe\n",
    "x_train[cont_cols] = scaler.fit_transform(x_train[cont_cols])\n",
    "x_train.head()"
   ]
  },
  {
   "cell_type": "code",
   "execution_count": 36,
   "id": "bb1d4685",
   "metadata": {},
   "outputs": [
    {
     "data": {
      "text/html": [
       "<div>\n",
       "<style scoped>\n",
       "    .dataframe tbody tr th:only-of-type {\n",
       "        vertical-align: middle;\n",
       "    }\n",
       "\n",
       "    .dataframe tbody tr th {\n",
       "        vertical-align: top;\n",
       "    }\n",
       "\n",
       "    .dataframe thead th {\n",
       "        text-align: right;\n",
       "    }\n",
       "</style>\n",
       "<table border=\"1\" class=\"dataframe\">\n",
       "  <thead>\n",
       "    <tr style=\"text-align: right;\">\n",
       "      <th></th>\n",
       "      <th>spring</th>\n",
       "      <th>summer</th>\n",
       "      <th>winter</th>\n",
       "      <th>August</th>\n",
       "      <th>December</th>\n",
       "      <th>Feburary</th>\n",
       "      <th>January</th>\n",
       "      <th>July</th>\n",
       "      <th>June</th>\n",
       "      <th>March</th>\n",
       "      <th>...</th>\n",
       "      <th>Tuesday</th>\n",
       "      <th>Wednesday</th>\n",
       "      <th>Light rain_Light snow_Thunderstorm</th>\n",
       "      <th>Mist_cloudy</th>\n",
       "      <th>yr</th>\n",
       "      <th>holiday</th>\n",
       "      <th>workingday</th>\n",
       "      <th>temp</th>\n",
       "      <th>hum</th>\n",
       "      <th>windspeed</th>\n",
       "    </tr>\n",
       "  </thead>\n",
       "  <tbody>\n",
       "    <tr>\n",
       "      <th>184</th>\n",
       "      <td>0</td>\n",
       "      <td>0</td>\n",
       "      <td>0</td>\n",
       "      <td>0</td>\n",
       "      <td>0</td>\n",
       "      <td>0</td>\n",
       "      <td>0</td>\n",
       "      <td>1</td>\n",
       "      <td>0</td>\n",
       "      <td>0</td>\n",
       "      <td>...</td>\n",
       "      <td>0</td>\n",
       "      <td>0</td>\n",
       "      <td>0</td>\n",
       "      <td>1</td>\n",
       "      <td>0</td>\n",
       "      <td>1</td>\n",
       "      <td>0</td>\n",
       "      <td>0.837241</td>\n",
       "      <td>0.534223</td>\n",
       "      <td>0.149393</td>\n",
       "    </tr>\n",
       "    <tr>\n",
       "      <th>535</th>\n",
       "      <td>0</td>\n",
       "      <td>1</td>\n",
       "      <td>0</td>\n",
       "      <td>0</td>\n",
       "      <td>0</td>\n",
       "      <td>0</td>\n",
       "      <td>0</td>\n",
       "      <td>0</td>\n",
       "      <td>1</td>\n",
       "      <td>0</td>\n",
       "      <td>...</td>\n",
       "      <td>0</td>\n",
       "      <td>1</td>\n",
       "      <td>0</td>\n",
       "      <td>0</td>\n",
       "      <td>1</td>\n",
       "      <td>0</td>\n",
       "      <td>1</td>\n",
       "      <td>0.911423</td>\n",
       "      <td>0.470417</td>\n",
       "      <td>0.231142</td>\n",
       "    </tr>\n",
       "    <tr>\n",
       "      <th>299</th>\n",
       "      <td>0</td>\n",
       "      <td>0</td>\n",
       "      <td>1</td>\n",
       "      <td>0</td>\n",
       "      <td>0</td>\n",
       "      <td>0</td>\n",
       "      <td>0</td>\n",
       "      <td>0</td>\n",
       "      <td>0</td>\n",
       "      <td>0</td>\n",
       "      <td>...</td>\n",
       "      <td>0</td>\n",
       "      <td>0</td>\n",
       "      <td>0</td>\n",
       "      <td>1</td>\n",
       "      <td>0</td>\n",
       "      <td>0</td>\n",
       "      <td>1</td>\n",
       "      <td>0.496221</td>\n",
       "      <td>0.777843</td>\n",
       "      <td>0.443398</td>\n",
       "    </tr>\n",
       "    <tr>\n",
       "      <th>221</th>\n",
       "      <td>0</td>\n",
       "      <td>0</td>\n",
       "      <td>0</td>\n",
       "      <td>1</td>\n",
       "      <td>0</td>\n",
       "      <td>0</td>\n",
       "      <td>0</td>\n",
       "      <td>0</td>\n",
       "      <td>0</td>\n",
       "      <td>0</td>\n",
       "      <td>...</td>\n",
       "      <td>0</td>\n",
       "      <td>1</td>\n",
       "      <td>0</td>\n",
       "      <td>0</td>\n",
       "      <td>0</td>\n",
       "      <td>0</td>\n",
       "      <td>1</td>\n",
       "      <td>0.890387</td>\n",
       "      <td>0.236659</td>\n",
       "      <td>0.449707</td>\n",
       "    </tr>\n",
       "    <tr>\n",
       "      <th>152</th>\n",
       "      <td>0</td>\n",
       "      <td>1</td>\n",
       "      <td>0</td>\n",
       "      <td>0</td>\n",
       "      <td>0</td>\n",
       "      <td>0</td>\n",
       "      <td>0</td>\n",
       "      <td>0</td>\n",
       "      <td>1</td>\n",
       "      <td>0</td>\n",
       "      <td>...</td>\n",
       "      <td>0</td>\n",
       "      <td>0</td>\n",
       "      <td>0</td>\n",
       "      <td>0</td>\n",
       "      <td>0</td>\n",
       "      <td>0</td>\n",
       "      <td>1</td>\n",
       "      <td>0.821739</td>\n",
       "      <td>0.070765</td>\n",
       "      <td>0.682387</td>\n",
       "    </tr>\n",
       "  </tbody>\n",
       "</table>\n",
       "<p>5 rows × 28 columns</p>\n",
       "</div>"
      ],
      "text/plain": [
       "     spring  summer  winter  August  December  Feburary  January  July  June  \\\n",
       "184       0       0       0       0         0         0        0     1     0   \n",
       "535       0       1       0       0         0         0        0     0     1   \n",
       "299       0       0       1       0         0         0        0     0     0   \n",
       "221       0       0       0       1         0         0        0     0     0   \n",
       "152       0       1       0       0         0         0        0     0     1   \n",
       "\n",
       "     March  ...  Tuesday  Wednesday  Light rain_Light snow_Thunderstorm  \\\n",
       "184      0  ...        0          0                                   0   \n",
       "535      0  ...        0          1                                   0   \n",
       "299      0  ...        0          0                                   0   \n",
       "221      0  ...        0          1                                   0   \n",
       "152      0  ...        0          0                                   0   \n",
       "\n",
       "     Mist_cloudy  yr  holiday  workingday      temp       hum  windspeed  \n",
       "184            1   0        1           0  0.837241  0.534223   0.149393  \n",
       "535            0   1        0           1  0.911423  0.470417   0.231142  \n",
       "299            1   0        0           1  0.496221  0.777843   0.443398  \n",
       "221            0   0        0           1  0.890387  0.236659   0.449707  \n",
       "152            0   0        0           1  0.821739  0.070765   0.682387  \n",
       "\n",
       "[5 rows x 28 columns]"
      ]
     },
     "execution_count": 36,
     "metadata": {},
     "output_type": "execute_result"
    }
   ],
   "source": [
    "#Scaling the continuous variables in x_test using MinMaxScaler and displaying the first few rows of the resulting dataframe\n",
    "x_test[cont_cols] = scaler.fit_transform(x_test[cont_cols]) \n",
    "x_test.head()"
   ]
  },
  {
   "cell_type": "markdown",
   "id": "f974e43d",
   "metadata": {},
   "source": [
    "# Feature Selection and Modelling"
   ]
  },
  {
   "cell_type": "markdown",
   "id": "a9df6299",
   "metadata": {},
   "source": [
    "# Recursive Feature Elimination (RFE)"
   ]
  },
  {
   "cell_type": "code",
   "execution_count": 37,
   "id": "f8570228",
   "metadata": {},
   "outputs": [
    {
     "data": {
      "text/plain": [
       "array([ True,  True,  True, False, False, False,  True,  True, False,\n",
       "       False, False, False, False,  True, False,  True, False, False,\n",
       "       False, False,  True,  True,  True,  True,  True,  True,  True,\n",
       "        True])"
      ]
     },
     "execution_count": 37,
     "metadata": {},
     "output_type": "execute_result"
    }
   ],
   "source": [
    "#Importing the RFE and Linear Regression libraries\n",
    "from sklearn.feature_selection import RFE\n",
    "from sklearn.linear_model import LinearRegression\n",
    "\n",
    "#Using Linear Regression as the estimator and RFE to select a certain number of features by eliminating the rest\n",
    "estimator=LinearRegression()\n",
    "selector=RFE(estimator,n_features_to_select=15)\n",
    "\n",
    "#Selecting the desired features from the training data using the \"selector\"\n",
    "selector=selector.fit(x_train,y_train)\n",
    "selector.support_"
   ]
  },
  {
   "cell_type": "code",
   "execution_count": 38,
   "id": "4069ceb1",
   "metadata": {},
   "outputs": [
    {
     "data": {
      "text/plain": [
       "['spring',\n",
       " 'summer',\n",
       " 'winter',\n",
       " 'January',\n",
       " 'July',\n",
       " 'September',\n",
       " 'Saturday',\n",
       " 'Light rain_Light snow_Thunderstorm',\n",
       " 'Mist_cloudy',\n",
       " 'yr',\n",
       " 'holiday',\n",
       " 'workingday',\n",
       " 'temp',\n",
       " 'hum',\n",
       " 'windspeed']"
      ]
     },
     "execution_count": 38,
     "metadata": {},
     "output_type": "execute_result"
    }
   ],
   "source": [
    "selected_features=list(x_train.columns[selector.support_])\n",
    "selected_features"
   ]
  },
  {
   "cell_type": "code",
   "execution_count": 39,
   "id": "346acb58",
   "metadata": {},
   "outputs": [],
   "source": [
    "#Selecting the chosen features in both the training and testing data using RFE.\n",
    "x_train=x_train[selected_features]\n",
    "x_test=x_test[selected_features]"
   ]
  },
  {
   "cell_type": "code",
   "execution_count": 40,
   "id": "ace8c2ed",
   "metadata": {},
   "outputs": [
    {
     "data": {
      "text/plain": [
       "((511, 15), (219, 15))"
      ]
     },
     "execution_count": 40,
     "metadata": {},
     "output_type": "execute_result"
    }
   ],
   "source": [
    "x_train.shape,x_test.shape"
   ]
  },
  {
   "cell_type": "code",
   "execution_count": 41,
   "id": "1e93ad70",
   "metadata": {},
   "outputs": [],
   "source": [
    "#Adding a constant feature to the training and testing data \n",
    "import statsmodels.api as sm\n",
    "x_train_sm=sm.add_constant(x_train)\n",
    "x_test_sm=sm.add_constant(x_test)"
   ]
  },
  {
   "cell_type": "code",
   "execution_count": 42,
   "id": "a50ba926",
   "metadata": {},
   "outputs": [
    {
     "data": {
      "text/html": [
       "<table class=\"simpletable\">\n",
       "<caption>OLS Regression Results</caption>\n",
       "<tr>\n",
       "  <th>Dep. Variable:</th>           <td>cnt</td>       <th>  R-squared:         </th> <td>   0.848</td> \n",
       "</tr>\n",
       "<tr>\n",
       "  <th>Model:</th>                   <td>OLS</td>       <th>  Adj. R-squared:    </th> <td>   0.844</td> \n",
       "</tr>\n",
       "<tr>\n",
       "  <th>Method:</th>             <td>Least Squares</td>  <th>  F-statistic:       </th> <td>   184.5</td> \n",
       "</tr>\n",
       "<tr>\n",
       "  <th>Date:</th>             <td>Thu, 04 May 2023</td> <th>  Prob (F-statistic):</th> <td>1.50e-191</td>\n",
       "</tr>\n",
       "<tr>\n",
       "  <th>Time:</th>                 <td>17:18:22</td>     <th>  Log-Likelihood:    </th> <td> -4114.8</td> \n",
       "</tr>\n",
       "<tr>\n",
       "  <th>No. Observations:</th>      <td>   511</td>      <th>  AIC:               </th> <td>   8262.</td> \n",
       "</tr>\n",
       "<tr>\n",
       "  <th>Df Residuals:</th>          <td>   495</td>      <th>  BIC:               </th> <td>   8329.</td> \n",
       "</tr>\n",
       "<tr>\n",
       "  <th>Df Model:</th>              <td>    15</td>      <th>                     </th>     <td> </td>    \n",
       "</tr>\n",
       "<tr>\n",
       "  <th>Covariance Type:</th>      <td>nonrobust</td>    <th>                     </th>     <td> </td>    \n",
       "</tr>\n",
       "</table>\n",
       "<table class=\"simpletable\">\n",
       "<tr>\n",
       "                   <td></td>                     <th>coef</th>     <th>std err</th>      <th>t</th>      <th>P>|t|</th>  <th>[0.025</th>    <th>0.975]</th>  \n",
       "</tr>\n",
       "<tr>\n",
       "  <th>const</th>                              <td> 2206.7691</td> <td>  314.541</td> <td>    7.016</td> <td> 0.000</td> <td> 1588.770</td> <td> 2824.769</td>\n",
       "</tr>\n",
       "<tr>\n",
       "  <th>spring</th>                             <td> -439.3779</td> <td>  179.750</td> <td>   -2.444</td> <td> 0.015</td> <td> -792.545</td> <td>  -86.211</td>\n",
       "</tr>\n",
       "<tr>\n",
       "  <th>summer</th>                             <td>  442.3136</td> <td>  129.046</td> <td>    3.428</td> <td> 0.001</td> <td>  188.768</td> <td>  695.859</td>\n",
       "</tr>\n",
       "<tr>\n",
       "  <th>winter</th>                             <td>  823.3397</td> <td>  150.044</td> <td>    5.487</td> <td> 0.000</td> <td>  528.538</td> <td> 1118.142</td>\n",
       "</tr>\n",
       "<tr>\n",
       "  <th>January</th>                            <td> -298.4753</td> <td>  150.964</td> <td>   -1.977</td> <td> 0.049</td> <td> -595.085</td> <td>   -1.865</td>\n",
       "</tr>\n",
       "<tr>\n",
       "  <th>July</th>                               <td> -461.8136</td> <td>  157.127</td> <td>   -2.939</td> <td> 0.003</td> <td> -770.531</td> <td> -153.096</td>\n",
       "</tr>\n",
       "<tr>\n",
       "  <th>September</th>                          <td>  705.8967</td> <td>  143.243</td> <td>    4.928</td> <td> 0.000</td> <td>  424.457</td> <td>  987.336</td>\n",
       "</tr>\n",
       "<tr>\n",
       "  <th>Saturday</th>                           <td>  466.0363</td> <td>  126.162</td> <td>    3.694</td> <td> 0.000</td> <td>  218.158</td> <td>  713.914</td>\n",
       "</tr>\n",
       "<tr>\n",
       "  <th>Light rain_Light snow_Thunderstorm</th> <td>-2154.6073</td> <td>  226.496</td> <td>   -9.513</td> <td> 0.000</td> <td>-2599.620</td> <td>-1709.594</td>\n",
       "</tr>\n",
       "<tr>\n",
       "  <th>Mist_cloudy</th>                        <td> -492.1456</td> <td>   90.091</td> <td>   -5.463</td> <td> 0.000</td> <td> -669.154</td> <td> -315.137</td>\n",
       "</tr>\n",
       "<tr>\n",
       "  <th>yr</th>                                 <td> 2007.6643</td> <td>   69.617</td> <td>   28.839</td> <td> 0.000</td> <td> 1870.884</td> <td> 2144.445</td>\n",
       "</tr>\n",
       "<tr>\n",
       "  <th>holiday</th>                            <td> -506.7813</td> <td>  233.946</td> <td>   -2.166</td> <td> 0.031</td> <td> -966.431</td> <td>  -47.132</td>\n",
       "</tr>\n",
       "<tr>\n",
       "  <th>workingday</th>                         <td>  380.7061</td> <td>  100.209</td> <td>    3.799</td> <td> 0.000</td> <td>  183.819</td> <td>  577.594</td>\n",
       "</tr>\n",
       "<tr>\n",
       "  <th>temp</th>                               <td> 4437.9745</td> <td>  298.850</td> <td>   14.850</td> <td> 0.000</td> <td> 3850.804</td> <td> 5025.145</td>\n",
       "</tr>\n",
       "<tr>\n",
       "  <th>hum</th>                                <td>-1366.6057</td> <td>  324.706</td> <td>   -4.209</td> <td> 0.000</td> <td>-2004.578</td> <td> -728.633</td>\n",
       "</tr>\n",
       "<tr>\n",
       "  <th>windspeed</th>                          <td>-1619.1366</td> <td>  221.733</td> <td>   -7.302</td> <td> 0.000</td> <td>-2054.791</td> <td>-1183.482</td>\n",
       "</tr>\n",
       "</table>\n",
       "<table class=\"simpletable\">\n",
       "<tr>\n",
       "  <th>Omnibus:</th>       <td>66.238</td> <th>  Durbin-Watson:     </th> <td>   2.071</td>\n",
       "</tr>\n",
       "<tr>\n",
       "  <th>Prob(Omnibus):</th> <td> 0.000</td> <th>  Jarque-Bera (JB):  </th> <td> 159.707</td>\n",
       "</tr>\n",
       "<tr>\n",
       "  <th>Skew:</th>          <td>-0.677</td> <th>  Prob(JB):          </th> <td>2.09e-35</td>\n",
       "</tr>\n",
       "<tr>\n",
       "  <th>Kurtosis:</th>      <td> 5.381</td> <th>  Cond. No.          </th> <td>    22.1</td>\n",
       "</tr>\n",
       "</table><br/><br/>Notes:<br/>[1] Standard Errors assume that the covariance matrix of the errors is correctly specified."
      ],
      "text/plain": [
       "<class 'statsmodels.iolib.summary.Summary'>\n",
       "\"\"\"\n",
       "                            OLS Regression Results                            \n",
       "==============================================================================\n",
       "Dep. Variable:                    cnt   R-squared:                       0.848\n",
       "Model:                            OLS   Adj. R-squared:                  0.844\n",
       "Method:                 Least Squares   F-statistic:                     184.5\n",
       "Date:                Thu, 04 May 2023   Prob (F-statistic):          1.50e-191\n",
       "Time:                        17:18:22   Log-Likelihood:                -4114.8\n",
       "No. Observations:                 511   AIC:                             8262.\n",
       "Df Residuals:                     495   BIC:                             8329.\n",
       "Df Model:                          15                                         \n",
       "Covariance Type:            nonrobust                                         \n",
       "======================================================================================================\n",
       "                                         coef    std err          t      P>|t|      [0.025      0.975]\n",
       "------------------------------------------------------------------------------------------------------\n",
       "const                               2206.7691    314.541      7.016      0.000    1588.770    2824.769\n",
       "spring                              -439.3779    179.750     -2.444      0.015    -792.545     -86.211\n",
       "summer                               442.3136    129.046      3.428      0.001     188.768     695.859\n",
       "winter                               823.3397    150.044      5.487      0.000     528.538    1118.142\n",
       "January                             -298.4753    150.964     -1.977      0.049    -595.085      -1.865\n",
       "July                                -461.8136    157.127     -2.939      0.003    -770.531    -153.096\n",
       "September                            705.8967    143.243      4.928      0.000     424.457     987.336\n",
       "Saturday                             466.0363    126.162      3.694      0.000     218.158     713.914\n",
       "Light rain_Light snow_Thunderstorm -2154.6073    226.496     -9.513      0.000   -2599.620   -1709.594\n",
       "Mist_cloudy                         -492.1456     90.091     -5.463      0.000    -669.154    -315.137\n",
       "yr                                  2007.6643     69.617     28.839      0.000    1870.884    2144.445\n",
       "holiday                             -506.7813    233.946     -2.166      0.031    -966.431     -47.132\n",
       "workingday                           380.7061    100.209      3.799      0.000     183.819     577.594\n",
       "temp                                4437.9745    298.850     14.850      0.000    3850.804    5025.145\n",
       "hum                                -1366.6057    324.706     -4.209      0.000   -2004.578    -728.633\n",
       "windspeed                          -1619.1366    221.733     -7.302      0.000   -2054.791   -1183.482\n",
       "==============================================================================\n",
       "Omnibus:                       66.238   Durbin-Watson:                   2.071\n",
       "Prob(Omnibus):                  0.000   Jarque-Bera (JB):              159.707\n",
       "Skew:                          -0.677   Prob(JB):                     2.09e-35\n",
       "Kurtosis:                       5.381   Cond. No.                         22.1\n",
       "==============================================================================\n",
       "\n",
       "Notes:\n",
       "[1] Standard Errors assume that the covariance matrix of the errors is correctly specified.\n",
       "\"\"\""
      ]
     },
     "execution_count": 42,
     "metadata": {},
     "output_type": "execute_result"
    }
   ],
   "source": [
    "#Creating model to make predictions\n",
    "\n",
    "model1=sm.OLS(y_train,x_train_sm)\n",
    "res1=model1.fit()\n",
    "res1.summary()"
   ]
  },
  {
   "cell_type": "markdown",
   "id": "51728256",
   "metadata": {},
   "source": [
    "# Variance Inflation Factor (VIF)"
   ]
  },
  {
   "cell_type": "code",
   "execution_count": 43,
   "id": "ad42a2ba",
   "metadata": {},
   "outputs": [],
   "source": [
    "#Importing the VIF function from the statsmodels library for checking multicollinearity\n",
    "from statsmodels.stats.outliers_influence import variance_inflation_factor\n",
    "\n",
    "def get_VIF(df):\n",
    "    vif = pd.DataFrame()\n",
    "    vif['Features'] = df.columns\n",
    "    vif['VIF'] = [variance_inflation_factor(df.values, i) for i in range(df.shape[1])]\n",
    "    vif['VIF'] = round(vif['VIF'], 2)\n",
    "    vif = vif.sort_values(by = \"VIF\", ascending = False)\n",
    "    return vif"
   ]
  },
  {
   "cell_type": "code",
   "execution_count": 44,
   "id": "d968aa9d",
   "metadata": {},
   "outputs": [
    {
     "data": {
      "text/html": [
       "<div>\n",
       "<style scoped>\n",
       "    .dataframe tbody tr th:only-of-type {\n",
       "        vertical-align: middle;\n",
       "    }\n",
       "\n",
       "    .dataframe tbody tr th {\n",
       "        vertical-align: top;\n",
       "    }\n",
       "\n",
       "    .dataframe thead th {\n",
       "        text-align: right;\n",
       "    }\n",
       "</style>\n",
       "<table border=\"1\" class=\"dataframe\">\n",
       "  <thead>\n",
       "    <tr style=\"text-align: right;\">\n",
       "      <th></th>\n",
       "      <th>Features</th>\n",
       "      <th>VIF</th>\n",
       "    </tr>\n",
       "  </thead>\n",
       "  <tbody>\n",
       "    <tr>\n",
       "      <th>13</th>\n",
       "      <td>hum</td>\n",
       "      <td>29.39</td>\n",
       "    </tr>\n",
       "    <tr>\n",
       "      <th>12</th>\n",
       "      <td>temp</td>\n",
       "      <td>17.80</td>\n",
       "    </tr>\n",
       "    <tr>\n",
       "      <th>11</th>\n",
       "      <td>workingday</td>\n",
       "      <td>5.32</td>\n",
       "    </tr>\n",
       "    <tr>\n",
       "      <th>14</th>\n",
       "      <td>windspeed</td>\n",
       "      <td>4.73</td>\n",
       "    </tr>\n",
       "    <tr>\n",
       "      <th>0</th>\n",
       "      <td>spring</td>\n",
       "      <td>4.53</td>\n",
       "    </tr>\n",
       "    <tr>\n",
       "      <th>2</th>\n",
       "      <td>winter</td>\n",
       "      <td>3.48</td>\n",
       "    </tr>\n",
       "    <tr>\n",
       "      <th>1</th>\n",
       "      <td>summer</td>\n",
       "      <td>2.85</td>\n",
       "    </tr>\n",
       "    <tr>\n",
       "      <th>8</th>\n",
       "      <td>Mist_cloudy</td>\n",
       "      <td>2.29</td>\n",
       "    </tr>\n",
       "    <tr>\n",
       "      <th>9</th>\n",
       "      <td>yr</td>\n",
       "      <td>2.09</td>\n",
       "    </tr>\n",
       "    <tr>\n",
       "      <th>6</th>\n",
       "      <td>Saturday</td>\n",
       "      <td>1.98</td>\n",
       "    </tr>\n",
       "    <tr>\n",
       "      <th>3</th>\n",
       "      <td>January</td>\n",
       "      <td>1.67</td>\n",
       "    </tr>\n",
       "    <tr>\n",
       "      <th>4</th>\n",
       "      <td>July</td>\n",
       "      <td>1.59</td>\n",
       "    </tr>\n",
       "    <tr>\n",
       "      <th>5</th>\n",
       "      <td>September</td>\n",
       "      <td>1.39</td>\n",
       "    </tr>\n",
       "    <tr>\n",
       "      <th>7</th>\n",
       "      <td>Light rain_Light snow_Thunderstorm</td>\n",
       "      <td>1.24</td>\n",
       "    </tr>\n",
       "    <tr>\n",
       "      <th>10</th>\n",
       "      <td>holiday</td>\n",
       "      <td>1.18</td>\n",
       "    </tr>\n",
       "  </tbody>\n",
       "</table>\n",
       "</div>"
      ],
      "text/plain": [
       "                              Features    VIF\n",
       "13                                 hum  29.39\n",
       "12                                temp  17.80\n",
       "11                          workingday   5.32\n",
       "14                           windspeed   4.73\n",
       "0                               spring   4.53\n",
       "2                               winter   3.48\n",
       "1                               summer   2.85\n",
       "8                          Mist_cloudy   2.29\n",
       "9                                   yr   2.09\n",
       "6                             Saturday   1.98\n",
       "3                              January   1.67\n",
       "4                                 July   1.59\n",
       "5                            September   1.39\n",
       "7   Light rain_Light snow_Thunderstorm   1.24\n",
       "10                             holiday   1.18"
      ]
     },
     "execution_count": 44,
     "metadata": {},
     "output_type": "execute_result"
    }
   ],
   "source": [
    "get_VIF(x_train)"
   ]
  },
  {
   "cell_type": "code",
   "execution_count": 45,
   "id": "a4a24a86",
   "metadata": {},
   "outputs": [],
   "source": [
    "#Dropping the \"hum\" feature from the dataframe due to its high VIF value\n",
    "x_train=x_train.drop([\"hum\"],axis=1)\n",
    "x_test=x_test.drop([\"hum\"],axis=1)"
   ]
  },
  {
   "cell_type": "code",
   "execution_count": 46,
   "id": "38c9cd58",
   "metadata": {},
   "outputs": [],
   "source": [
    "#Updating data after dropping the \"hum\" feature\n",
    "x_train_sm=sm.add_constant(x_train)\n",
    "x_test_sm=sm.add_constant(x_test)"
   ]
  },
  {
   "cell_type": "code",
   "execution_count": 47,
   "id": "18a697cd",
   "metadata": {},
   "outputs": [
    {
     "data": {
      "text/html": [
       "<table class=\"simpletable\">\n",
       "<caption>OLS Regression Results</caption>\n",
       "<tr>\n",
       "  <th>Dep. Variable:</th>           <td>cnt</td>       <th>  R-squared:         </th> <td>   0.843</td> \n",
       "</tr>\n",
       "<tr>\n",
       "  <th>Model:</th>                   <td>OLS</td>       <th>  Adj. R-squared:    </th> <td>   0.838</td> \n",
       "</tr>\n",
       "<tr>\n",
       "  <th>Method:</th>             <td>Least Squares</td>  <th>  F-statistic:       </th> <td>   190.0</td> \n",
       "</tr>\n",
       "<tr>\n",
       "  <th>Date:</th>             <td>Thu, 04 May 2023</td> <th>  Prob (F-statistic):</th> <td>6.18e-189</td>\n",
       "</tr>\n",
       "<tr>\n",
       "  <th>Time:</th>                 <td>17:18:23</td>     <th>  Log-Likelihood:    </th> <td> -4123.8</td> \n",
       "</tr>\n",
       "<tr>\n",
       "  <th>No. Observations:</th>      <td>   511</td>      <th>  AIC:               </th> <td>   8278.</td> \n",
       "</tr>\n",
       "<tr>\n",
       "  <th>Df Residuals:</th>          <td>   496</td>      <th>  BIC:               </th> <td>   8341.</td> \n",
       "</tr>\n",
       "<tr>\n",
       "  <th>Df Model:</th>              <td>    14</td>      <th>                     </th>     <td> </td>    \n",
       "</tr>\n",
       "<tr>\n",
       "  <th>Covariance Type:</th>      <td>nonrobust</td>    <th>                     </th>     <td> </td>    \n",
       "</tr>\n",
       "</table>\n",
       "<table class=\"simpletable\">\n",
       "<tr>\n",
       "                   <td></td>                     <th>coef</th>     <th>std err</th>      <th>t</th>      <th>P>|t|</th>  <th>[0.025</th>    <th>0.975]</th>  \n",
       "</tr>\n",
       "<tr>\n",
       "  <th>const</th>                              <td> 1522.3973</td> <td>  273.747</td> <td>    5.561</td> <td> 0.000</td> <td>  984.550</td> <td> 2060.244</td>\n",
       "</tr>\n",
       "<tr>\n",
       "  <th>spring</th>                             <td> -517.8708</td> <td>  181.767</td> <td>   -2.849</td> <td> 0.005</td> <td> -874.999</td> <td> -160.743</td>\n",
       "</tr>\n",
       "<tr>\n",
       "  <th>summer</th>                             <td>  387.6602</td> <td>  130.536</td> <td>    2.970</td> <td> 0.003</td> <td>  131.188</td> <td>  644.133</td>\n",
       "</tr>\n",
       "<tr>\n",
       "  <th>winter</th>                             <td>  693.3129</td> <td>  149.282</td> <td>    4.644</td> <td> 0.000</td> <td>  400.009</td> <td>  986.617</td>\n",
       "</tr>\n",
       "<tr>\n",
       "  <th>January</th>                            <td> -339.3758</td> <td>  153.168</td> <td>   -2.216</td> <td> 0.027</td> <td> -640.315</td> <td>  -38.437</td>\n",
       "</tr>\n",
       "<tr>\n",
       "  <th>July</th>                               <td> -417.7679</td> <td>  159.397</td> <td>   -2.621</td> <td> 0.009</td> <td> -730.945</td> <td> -104.591</td>\n",
       "</tr>\n",
       "<tr>\n",
       "  <th>September</th>                          <td>  654.0040</td> <td>  145.096</td> <td>    4.507</td> <td> 0.000</td> <td>  368.926</td> <td>  939.082</td>\n",
       "</tr>\n",
       "<tr>\n",
       "  <th>Saturday</th>                           <td>  507.6340</td> <td>  127.875</td> <td>    3.970</td> <td> 0.000</td> <td>  256.390</td> <td>  758.878</td>\n",
       "</tr>\n",
       "<tr>\n",
       "  <th>Light rain_Light snow_Thunderstorm</th> <td>-2533.7977</td> <td>  211.278</td> <td>  -11.993</td> <td> 0.000</td> <td>-2948.909</td> <td>-2118.687</td>\n",
       "</tr>\n",
       "<tr>\n",
       "  <th>Mist_cloudy</th>                        <td> -710.4234</td> <td>   74.897</td> <td>   -9.485</td> <td> 0.000</td> <td> -857.578</td> <td> -563.269</td>\n",
       "</tr>\n",
       "<tr>\n",
       "  <th>yr</th>                                 <td> 2042.2594</td> <td>   70.285</td> <td>   29.057</td> <td> 0.000</td> <td> 1904.167</td> <td> 2180.352</td>\n",
       "</tr>\n",
       "<tr>\n",
       "  <th>holiday</th>                            <td> -485.9446</td> <td>  237.801</td> <td>   -2.043</td> <td> 0.042</td> <td> -953.167</td> <td>  -18.722</td>\n",
       "</tr>\n",
       "<tr>\n",
       "  <th>workingday</th>                         <td>  407.3465</td> <td>  101.680</td> <td>    4.006</td> <td> 0.000</td> <td>  207.570</td> <td>  607.123</td>\n",
       "</tr>\n",
       "<tr>\n",
       "  <th>temp</th>                               <td> 4111.1718</td> <td>  293.408</td> <td>   14.012</td> <td> 0.000</td> <td> 3534.696</td> <td> 4687.647</td>\n",
       "</tr>\n",
       "<tr>\n",
       "  <th>windspeed</th>                          <td>-1356.7226</td> <td>  216.342</td> <td>   -6.271</td> <td> 0.000</td> <td>-1781.782</td> <td> -931.663</td>\n",
       "</tr>\n",
       "</table>\n",
       "<table class=\"simpletable\">\n",
       "<tr>\n",
       "  <th>Omnibus:</th>       <td>67.777</td> <th>  Durbin-Watson:     </th> <td>   2.067</td>\n",
       "</tr>\n",
       "<tr>\n",
       "  <th>Prob(Omnibus):</th> <td> 0.000</td> <th>  Jarque-Bera (JB):  </th> <td> 164.366</td>\n",
       "</tr>\n",
       "<tr>\n",
       "  <th>Skew:</th>          <td>-0.690</td> <th>  Prob(JB):          </th> <td>2.03e-36</td>\n",
       "</tr>\n",
       "<tr>\n",
       "  <th>Kurtosis:</th>      <td> 5.411</td> <th>  Cond. No.          </th> <td>    20.1</td>\n",
       "</tr>\n",
       "</table><br/><br/>Notes:<br/>[1] Standard Errors assume that the covariance matrix of the errors is correctly specified."
      ],
      "text/plain": [
       "<class 'statsmodels.iolib.summary.Summary'>\n",
       "\"\"\"\n",
       "                            OLS Regression Results                            \n",
       "==============================================================================\n",
       "Dep. Variable:                    cnt   R-squared:                       0.843\n",
       "Model:                            OLS   Adj. R-squared:                  0.838\n",
       "Method:                 Least Squares   F-statistic:                     190.0\n",
       "Date:                Thu, 04 May 2023   Prob (F-statistic):          6.18e-189\n",
       "Time:                        17:18:23   Log-Likelihood:                -4123.8\n",
       "No. Observations:                 511   AIC:                             8278.\n",
       "Df Residuals:                     496   BIC:                             8341.\n",
       "Df Model:                          14                                         \n",
       "Covariance Type:            nonrobust                                         \n",
       "======================================================================================================\n",
       "                                         coef    std err          t      P>|t|      [0.025      0.975]\n",
       "------------------------------------------------------------------------------------------------------\n",
       "const                               1522.3973    273.747      5.561      0.000     984.550    2060.244\n",
       "spring                              -517.8708    181.767     -2.849      0.005    -874.999    -160.743\n",
       "summer                               387.6602    130.536      2.970      0.003     131.188     644.133\n",
       "winter                               693.3129    149.282      4.644      0.000     400.009     986.617\n",
       "January                             -339.3758    153.168     -2.216      0.027    -640.315     -38.437\n",
       "July                                -417.7679    159.397     -2.621      0.009    -730.945    -104.591\n",
       "September                            654.0040    145.096      4.507      0.000     368.926     939.082\n",
       "Saturday                             507.6340    127.875      3.970      0.000     256.390     758.878\n",
       "Light rain_Light snow_Thunderstorm -2533.7977    211.278    -11.993      0.000   -2948.909   -2118.687\n",
       "Mist_cloudy                         -710.4234     74.897     -9.485      0.000    -857.578    -563.269\n",
       "yr                                  2042.2594     70.285     29.057      0.000    1904.167    2180.352\n",
       "holiday                             -485.9446    237.801     -2.043      0.042    -953.167     -18.722\n",
       "workingday                           407.3465    101.680      4.006      0.000     207.570     607.123\n",
       "temp                                4111.1718    293.408     14.012      0.000    3534.696    4687.647\n",
       "windspeed                          -1356.7226    216.342     -6.271      0.000   -1781.782    -931.663\n",
       "==============================================================================\n",
       "Omnibus:                       67.777   Durbin-Watson:                   2.067\n",
       "Prob(Omnibus):                  0.000   Jarque-Bera (JB):              164.366\n",
       "Skew:                          -0.690   Prob(JB):                     2.03e-36\n",
       "Kurtosis:                       5.411   Cond. No.                         20.1\n",
       "==============================================================================\n",
       "\n",
       "Notes:\n",
       "[1] Standard Errors assume that the covariance matrix of the errors is correctly specified.\n",
       "\"\"\""
      ]
     },
     "execution_count": 47,
     "metadata": {},
     "output_type": "execute_result"
    }
   ],
   "source": [
    "#Creating a model2 after dropping the \"hum\" feature\n",
    "model2=sm.OLS(y_train,x_train_sm)\n",
    "res2=model2.fit()\n",
    "res2.summary()"
   ]
  },
  {
   "cell_type": "code",
   "execution_count": 48,
   "id": "c6781a96",
   "metadata": {},
   "outputs": [
    {
     "data": {
      "text/html": [
       "<div>\n",
       "<style scoped>\n",
       "    .dataframe tbody tr th:only-of-type {\n",
       "        vertical-align: middle;\n",
       "    }\n",
       "\n",
       "    .dataframe tbody tr th {\n",
       "        vertical-align: top;\n",
       "    }\n",
       "\n",
       "    .dataframe thead th {\n",
       "        text-align: right;\n",
       "    }\n",
       "</style>\n",
       "<table border=\"1\" class=\"dataframe\">\n",
       "  <thead>\n",
       "    <tr style=\"text-align: right;\">\n",
       "      <th></th>\n",
       "      <th>Features</th>\n",
       "      <th>VIF</th>\n",
       "    </tr>\n",
       "  </thead>\n",
       "  <tbody>\n",
       "    <tr>\n",
       "      <th>12</th>\n",
       "      <td>temp</td>\n",
       "      <td>7.08</td>\n",
       "    </tr>\n",
       "    <tr>\n",
       "      <th>11</th>\n",
       "      <td>workingday</td>\n",
       "      <td>5.26</td>\n",
       "    </tr>\n",
       "    <tr>\n",
       "      <th>13</th>\n",
       "      <td>windspeed</td>\n",
       "      <td>4.68</td>\n",
       "    </tr>\n",
       "    <tr>\n",
       "      <th>0</th>\n",
       "      <td>spring</td>\n",
       "      <td>3.07</td>\n",
       "    </tr>\n",
       "    <tr>\n",
       "      <th>1</th>\n",
       "      <td>summer</td>\n",
       "      <td>2.34</td>\n",
       "    </tr>\n",
       "    <tr>\n",
       "      <th>9</th>\n",
       "      <td>yr</td>\n",
       "      <td>2.08</td>\n",
       "    </tr>\n",
       "    <tr>\n",
       "      <th>2</th>\n",
       "      <td>winter</td>\n",
       "      <td>1.99</td>\n",
       "    </tr>\n",
       "    <tr>\n",
       "      <th>6</th>\n",
       "      <td>Saturday</td>\n",
       "      <td>1.97</td>\n",
       "    </tr>\n",
       "    <tr>\n",
       "      <th>3</th>\n",
       "      <td>January</td>\n",
       "      <td>1.62</td>\n",
       "    </tr>\n",
       "    <tr>\n",
       "      <th>4</th>\n",
       "      <td>July</td>\n",
       "      <td>1.59</td>\n",
       "    </tr>\n",
       "    <tr>\n",
       "      <th>8</th>\n",
       "      <td>Mist_cloudy</td>\n",
       "      <td>1.58</td>\n",
       "    </tr>\n",
       "    <tr>\n",
       "      <th>5</th>\n",
       "      <td>September</td>\n",
       "      <td>1.35</td>\n",
       "    </tr>\n",
       "    <tr>\n",
       "      <th>10</th>\n",
       "      <td>holiday</td>\n",
       "      <td>1.17</td>\n",
       "    </tr>\n",
       "    <tr>\n",
       "      <th>7</th>\n",
       "      <td>Light rain_Light snow_Thunderstorm</td>\n",
       "      <td>1.09</td>\n",
       "    </tr>\n",
       "  </tbody>\n",
       "</table>\n",
       "</div>"
      ],
      "text/plain": [
       "                              Features   VIF\n",
       "12                                temp  7.08\n",
       "11                          workingday  5.26\n",
       "13                           windspeed  4.68\n",
       "0                               spring  3.07\n",
       "1                               summer  2.34\n",
       "9                                   yr  2.08\n",
       "2                               winter  1.99\n",
       "6                             Saturday  1.97\n",
       "3                              January  1.62\n",
       "4                                 July  1.59\n",
       "8                          Mist_cloudy  1.58\n",
       "5                            September  1.35\n",
       "10                             holiday  1.17\n",
       "7   Light rain_Light snow_Thunderstorm  1.09"
      ]
     },
     "execution_count": 48,
     "metadata": {},
     "output_type": "execute_result"
    }
   ],
   "source": [
    "get_VIF(x_train)"
   ]
  },
  {
   "cell_type": "code",
   "execution_count": 49,
   "id": "0918baf6",
   "metadata": {},
   "outputs": [],
   "source": [
    "#Keeping the \"temp\" feature in the dataframe even though it has a high VIF value,for better prediction"
   ]
  },
  {
   "cell_type": "code",
   "execution_count": 50,
   "id": "ec1988a6",
   "metadata": {},
   "outputs": [],
   "source": [
    "#Dropping the \"workingday\" feature from the dataframe due to its high VIF value\n",
    "x_train=x_train.drop([\"workingday\"],axis=1)\n",
    "x_test=x_test.drop([\"workingday\"],axis=1)"
   ]
  },
  {
   "cell_type": "code",
   "execution_count": 51,
   "id": "80f65834",
   "metadata": {},
   "outputs": [],
   "source": [
    "x_train_sm=sm.add_constant(x_train)\n",
    "x_test_sm=sm.add_constant(x_test)"
   ]
  },
  {
   "cell_type": "code",
   "execution_count": 52,
   "id": "009f1d0a",
   "metadata": {},
   "outputs": [
    {
     "data": {
      "text/html": [
       "<table class=\"simpletable\">\n",
       "<caption>OLS Regression Results</caption>\n",
       "<tr>\n",
       "  <th>Dep. Variable:</th>           <td>cnt</td>       <th>  R-squared:         </th> <td>   0.838</td> \n",
       "</tr>\n",
       "<tr>\n",
       "  <th>Model:</th>                   <td>OLS</td>       <th>  Adj. R-squared:    </th> <td>   0.834</td> \n",
       "</tr>\n",
       "<tr>\n",
       "  <th>Method:</th>             <td>Least Squares</td>  <th>  F-statistic:       </th> <td>   197.4</td> \n",
       "</tr>\n",
       "<tr>\n",
       "  <th>Date:</th>             <td>Thu, 04 May 2023</td> <th>  Prob (F-statistic):</th> <td>1.12e-186</td>\n",
       "</tr>\n",
       "<tr>\n",
       "  <th>Time:</th>                 <td>17:18:24</td>     <th>  Log-Likelihood:    </th> <td> -4131.9</td> \n",
       "</tr>\n",
       "<tr>\n",
       "  <th>No. Observations:</th>      <td>   511</td>      <th>  AIC:               </th> <td>   8292.</td> \n",
       "</tr>\n",
       "<tr>\n",
       "  <th>Df Residuals:</th>          <td>   497</td>      <th>  BIC:               </th> <td>   8351.</td> \n",
       "</tr>\n",
       "<tr>\n",
       "  <th>Df Model:</th>              <td>    13</td>      <th>                     </th>     <td> </td>    \n",
       "</tr>\n",
       "<tr>\n",
       "  <th>Covariance Type:</th>      <td>nonrobust</td>    <th>                     </th>     <td> </td>    \n",
       "</tr>\n",
       "</table>\n",
       "<table class=\"simpletable\">\n",
       "<tr>\n",
       "                   <td></td>                     <th>coef</th>     <th>std err</th>      <th>t</th>      <th>P>|t|</th>  <th>[0.025</th>    <th>0.975]</th>  \n",
       "</tr>\n",
       "<tr>\n",
       "  <th>const</th>                              <td> 1858.8114</td> <td>  264.465</td> <td>    7.029</td> <td> 0.000</td> <td> 1339.205</td> <td> 2378.418</td>\n",
       "</tr>\n",
       "<tr>\n",
       "  <th>spring</th>                             <td> -531.8072</td> <td>  184.465</td> <td>   -2.883</td> <td> 0.004</td> <td> -894.234</td> <td> -169.381</td>\n",
       "</tr>\n",
       "<tr>\n",
       "  <th>summer</th>                             <td>  380.4966</td> <td>  132.486</td> <td>    2.872</td> <td> 0.004</td> <td>  120.196</td> <td>  640.797</td>\n",
       "</tr>\n",
       "<tr>\n",
       "  <th>winter</th>                             <td>  668.8065</td> <td>  151.399</td> <td>    4.418</td> <td> 0.000</td> <td>  371.347</td> <td>  966.267</td>\n",
       "</tr>\n",
       "<tr>\n",
       "  <th>January</th>                            <td> -333.6454</td> <td>  155.463</td> <td>   -2.146</td> <td> 0.032</td> <td> -639.092</td> <td>  -28.199</td>\n",
       "</tr>\n",
       "<tr>\n",
       "  <th>July</th>                               <td> -443.5813</td> <td>  161.660</td> <td>   -2.744</td> <td> 0.006</td> <td> -761.203</td> <td> -125.959</td>\n",
       "</tr>\n",
       "<tr>\n",
       "  <th>September</th>                          <td>  660.2348</td> <td>  147.268</td> <td>    4.483</td> <td> 0.000</td> <td>  370.891</td> <td>  949.579</td>\n",
       "</tr>\n",
       "<tr>\n",
       "  <th>Saturday</th>                           <td>  172.0326</td> <td>   98.067</td> <td>    1.754</td> <td> 0.080</td> <td>  -20.644</td> <td>  364.710</td>\n",
       "</tr>\n",
       "<tr>\n",
       "  <th>Light rain_Light snow_Thunderstorm</th> <td>-2491.0681</td> <td>  214.180</td> <td>  -11.631</td> <td> 0.000</td> <td>-2911.878</td> <td>-2070.259</td>\n",
       "</tr>\n",
       "<tr>\n",
       "  <th>Mist_cloudy</th>                        <td> -694.0854</td> <td>   75.910</td> <td>   -9.144</td> <td> 0.000</td> <td> -843.229</td> <td> -544.942</td>\n",
       "</tr>\n",
       "<tr>\n",
       "  <th>yr</th>                                 <td> 2044.8505</td> <td>   71.338</td> <td>   28.664</td> <td> 0.000</td> <td> 1904.690</td> <td> 2185.011</td>\n",
       "</tr>\n",
       "<tr>\n",
       "  <th>holiday</th>                            <td> -816.3866</td> <td>  226.390</td> <td>   -3.606</td> <td> 0.000</td> <td>-1261.186</td> <td> -371.587</td>\n",
       "</tr>\n",
       "<tr>\n",
       "  <th>temp</th>                               <td> 4122.1149</td> <td>  297.804</td> <td>   13.842</td> <td> 0.000</td> <td> 3537.005</td> <td> 4707.225</td>\n",
       "</tr>\n",
       "<tr>\n",
       "  <th>windspeed</th>                          <td>-1363.5304</td> <td>  219.586</td> <td>   -6.210</td> <td> 0.000</td> <td>-1794.962</td> <td> -932.098</td>\n",
       "</tr>\n",
       "</table>\n",
       "<table class=\"simpletable\">\n",
       "<tr>\n",
       "  <th>Omnibus:</th>       <td>66.075</td> <th>  Durbin-Watson:     </th> <td>   2.049</td>\n",
       "</tr>\n",
       "<tr>\n",
       "  <th>Prob(Omnibus):</th> <td> 0.000</td> <th>  Jarque-Bera (JB):  </th> <td> 142.268</td>\n",
       "</tr>\n",
       "<tr>\n",
       "  <th>Skew:</th>          <td>-0.713</td> <th>  Prob(JB):          </th> <td>1.28e-31</td>\n",
       "</tr>\n",
       "<tr>\n",
       "  <th>Kurtosis:</th>      <td> 5.155</td> <th>  Cond. No.          </th> <td>    17.9</td>\n",
       "</tr>\n",
       "</table><br/><br/>Notes:<br/>[1] Standard Errors assume that the covariance matrix of the errors is correctly specified."
      ],
      "text/plain": [
       "<class 'statsmodels.iolib.summary.Summary'>\n",
       "\"\"\"\n",
       "                            OLS Regression Results                            \n",
       "==============================================================================\n",
       "Dep. Variable:                    cnt   R-squared:                       0.838\n",
       "Model:                            OLS   Adj. R-squared:                  0.834\n",
       "Method:                 Least Squares   F-statistic:                     197.4\n",
       "Date:                Thu, 04 May 2023   Prob (F-statistic):          1.12e-186\n",
       "Time:                        17:18:24   Log-Likelihood:                -4131.9\n",
       "No. Observations:                 511   AIC:                             8292.\n",
       "Df Residuals:                     497   BIC:                             8351.\n",
       "Df Model:                          13                                         \n",
       "Covariance Type:            nonrobust                                         \n",
       "======================================================================================================\n",
       "                                         coef    std err          t      P>|t|      [0.025      0.975]\n",
       "------------------------------------------------------------------------------------------------------\n",
       "const                               1858.8114    264.465      7.029      0.000    1339.205    2378.418\n",
       "spring                              -531.8072    184.465     -2.883      0.004    -894.234    -169.381\n",
       "summer                               380.4966    132.486      2.872      0.004     120.196     640.797\n",
       "winter                               668.8065    151.399      4.418      0.000     371.347     966.267\n",
       "January                             -333.6454    155.463     -2.146      0.032    -639.092     -28.199\n",
       "July                                -443.5813    161.660     -2.744      0.006    -761.203    -125.959\n",
       "September                            660.2348    147.268      4.483      0.000     370.891     949.579\n",
       "Saturday                             172.0326     98.067      1.754      0.080     -20.644     364.710\n",
       "Light rain_Light snow_Thunderstorm -2491.0681    214.180    -11.631      0.000   -2911.878   -2070.259\n",
       "Mist_cloudy                         -694.0854     75.910     -9.144      0.000    -843.229    -544.942\n",
       "yr                                  2044.8505     71.338     28.664      0.000    1904.690    2185.011\n",
       "holiday                             -816.3866    226.390     -3.606      0.000   -1261.186    -371.587\n",
       "temp                                4122.1149    297.804     13.842      0.000    3537.005    4707.225\n",
       "windspeed                          -1363.5304    219.586     -6.210      0.000   -1794.962    -932.098\n",
       "==============================================================================\n",
       "Omnibus:                       66.075   Durbin-Watson:                   2.049\n",
       "Prob(Omnibus):                  0.000   Jarque-Bera (JB):              142.268\n",
       "Skew:                          -0.713   Prob(JB):                     1.28e-31\n",
       "Kurtosis:                       5.155   Cond. No.                         17.9\n",
       "==============================================================================\n",
       "\n",
       "Notes:\n",
       "[1] Standard Errors assume that the covariance matrix of the errors is correctly specified.\n",
       "\"\"\""
      ]
     },
     "execution_count": 52,
     "metadata": {},
     "output_type": "execute_result"
    }
   ],
   "source": [
    "#Creating a model3 after dropping the \"workingday\" feature\n",
    "model3=sm.OLS(y_train,x_train_sm)\n",
    "res3=model3.fit()\n",
    "res3.summary()"
   ]
  },
  {
   "cell_type": "code",
   "execution_count": 53,
   "id": "f001e5af",
   "metadata": {},
   "outputs": [],
   "source": [
    "#Dropping the \"Saturday\" feature as it has a p-value greater than the significance level\n",
    "x_train=x_train.drop([\"Saturday\"],axis=1)\n",
    "x_test=x_test.drop([\"Saturday\"],axis=1)"
   ]
  },
  {
   "cell_type": "code",
   "execution_count": 54,
   "id": "5ba85834",
   "metadata": {},
   "outputs": [],
   "source": [
    "x_train_sm=sm.add_constant(x_train)\n",
    "x_test_sm=sm.add_constant(x_test)"
   ]
  },
  {
   "cell_type": "code",
   "execution_count": 55,
   "id": "06631d59",
   "metadata": {},
   "outputs": [
    {
     "data": {
      "text/html": [
       "<table class=\"simpletable\">\n",
       "<caption>OLS Regression Results</caption>\n",
       "<tr>\n",
       "  <th>Dep. Variable:</th>           <td>cnt</td>       <th>  R-squared:         </th> <td>   0.837</td> \n",
       "</tr>\n",
       "<tr>\n",
       "  <th>Model:</th>                   <td>OLS</td>       <th>  Adj. R-squared:    </th> <td>   0.833</td> \n",
       "</tr>\n",
       "<tr>\n",
       "  <th>Method:</th>             <td>Least Squares</td>  <th>  F-statistic:       </th> <td>   212.7</td> \n",
       "</tr>\n",
       "<tr>\n",
       "  <th>Date:</th>             <td>Thu, 04 May 2023</td> <th>  Prob (F-statistic):</th> <td>3.46e-187</td>\n",
       "</tr>\n",
       "<tr>\n",
       "  <th>Time:</th>                 <td>17:18:24</td>     <th>  Log-Likelihood:    </th> <td> -4133.5</td> \n",
       "</tr>\n",
       "<tr>\n",
       "  <th>No. Observations:</th>      <td>   511</td>      <th>  AIC:               </th> <td>   8293.</td> \n",
       "</tr>\n",
       "<tr>\n",
       "  <th>Df Residuals:</th>          <td>   498</td>      <th>  BIC:               </th> <td>   8348.</td> \n",
       "</tr>\n",
       "<tr>\n",
       "  <th>Df Model:</th>              <td>    12</td>      <th>                     </th>     <td> </td>    \n",
       "</tr>\n",
       "<tr>\n",
       "  <th>Covariance Type:</th>      <td>nonrobust</td>    <th>                     </th>     <td> </td>    \n",
       "</tr>\n",
       "</table>\n",
       "<table class=\"simpletable\">\n",
       "<tr>\n",
       "                   <td></td>                     <th>coef</th>     <th>std err</th>      <th>t</th>      <th>P>|t|</th>  <th>[0.025</th>    <th>0.975]</th>  \n",
       "</tr>\n",
       "<tr>\n",
       "  <th>const</th>                              <td> 1887.8974</td> <td>  264.494</td> <td>    7.138</td> <td> 0.000</td> <td> 1368.235</td> <td> 2407.560</td>\n",
       "</tr>\n",
       "<tr>\n",
       "  <th>spring</th>                             <td> -533.5723</td> <td>  184.846</td> <td>   -2.887</td> <td> 0.004</td> <td> -896.747</td> <td> -170.398</td>\n",
       "</tr>\n",
       "<tr>\n",
       "  <th>summer</th>                             <td>  377.9180</td> <td>  132.753</td> <td>    2.847</td> <td> 0.005</td> <td>  117.092</td> <td>  638.744</td>\n",
       "</tr>\n",
       "<tr>\n",
       "  <th>winter</th>                             <td>  670.0846</td> <td>  151.712</td> <td>    4.417</td> <td> 0.000</td> <td>  372.010</td> <td>  968.159</td>\n",
       "</tr>\n",
       "<tr>\n",
       "  <th>January</th>                            <td> -331.1287</td> <td>  155.781</td> <td>   -2.126</td> <td> 0.034</td> <td> -637.197</td> <td>  -25.060</td>\n",
       "</tr>\n",
       "<tr>\n",
       "  <th>July</th>                               <td> -439.7359</td> <td>  161.982</td> <td>   -2.715</td> <td> 0.007</td> <td> -757.989</td> <td> -121.483</td>\n",
       "</tr>\n",
       "<tr>\n",
       "  <th>September</th>                          <td>  662.0149</td> <td>  147.571</td> <td>    4.486</td> <td> 0.000</td> <td>  372.076</td> <td>  951.954</td>\n",
       "</tr>\n",
       "<tr>\n",
       "  <th>Light rain_Light snow_Thunderstorm</th> <td>-2486.9861</td> <td>  214.613</td> <td>  -11.588</td> <td> 0.000</td> <td>-2908.645</td> <td>-2065.327</td>\n",
       "</tr>\n",
       "<tr>\n",
       "  <th>Mist_cloudy</th>                        <td> -693.2208</td> <td>   76.066</td> <td>   -9.113</td> <td> 0.000</td> <td> -842.671</td> <td> -543.770</td>\n",
       "</tr>\n",
       "<tr>\n",
       "  <th>yr</th>                                 <td> 2041.0316</td> <td>   71.453</td> <td>   28.565</td> <td> 0.000</td> <td> 1900.645</td> <td> 2181.418</td>\n",
       "</tr>\n",
       "<tr>\n",
       "  <th>holiday</th>                            <td> -845.4055</td> <td>  226.255</td> <td>   -3.737</td> <td> 0.000</td> <td>-1289.938</td> <td> -400.873</td>\n",
       "</tr>\n",
       "<tr>\n",
       "  <th>temp</th>                               <td> 4111.0375</td> <td>  298.358</td> <td>   13.779</td> <td> 0.000</td> <td> 3524.843</td> <td> 4697.232</td>\n",
       "</tr>\n",
       "<tr>\n",
       "  <th>windspeed</th>                          <td>-1345.4059</td> <td>  219.800</td> <td>   -6.121</td> <td> 0.000</td> <td>-1777.256</td> <td> -913.556</td>\n",
       "</tr>\n",
       "</table>\n",
       "<table class=\"simpletable\">\n",
       "<tr>\n",
       "  <th>Omnibus:</th>       <td>59.917</td> <th>  Durbin-Watson:     </th> <td>   2.048</td>\n",
       "</tr>\n",
       "<tr>\n",
       "  <th>Prob(Omnibus):</th> <td> 0.000</td> <th>  Jarque-Bera (JB):  </th> <td> 134.728</td>\n",
       "</tr>\n",
       "<tr>\n",
       "  <th>Skew:</th>          <td>-0.638</td> <th>  Prob(JB):          </th> <td>5.55e-30</td>\n",
       "</tr>\n",
       "<tr>\n",
       "  <th>Kurtosis:</th>      <td> 5.168</td> <th>  Cond. No.          </th> <td>    17.8</td>\n",
       "</tr>\n",
       "</table><br/><br/>Notes:<br/>[1] Standard Errors assume that the covariance matrix of the errors is correctly specified."
      ],
      "text/plain": [
       "<class 'statsmodels.iolib.summary.Summary'>\n",
       "\"\"\"\n",
       "                            OLS Regression Results                            \n",
       "==============================================================================\n",
       "Dep. Variable:                    cnt   R-squared:                       0.837\n",
       "Model:                            OLS   Adj. R-squared:                  0.833\n",
       "Method:                 Least Squares   F-statistic:                     212.7\n",
       "Date:                Thu, 04 May 2023   Prob (F-statistic):          3.46e-187\n",
       "Time:                        17:18:24   Log-Likelihood:                -4133.5\n",
       "No. Observations:                 511   AIC:                             8293.\n",
       "Df Residuals:                     498   BIC:                             8348.\n",
       "Df Model:                          12                                         \n",
       "Covariance Type:            nonrobust                                         \n",
       "======================================================================================================\n",
       "                                         coef    std err          t      P>|t|      [0.025      0.975]\n",
       "------------------------------------------------------------------------------------------------------\n",
       "const                               1887.8974    264.494      7.138      0.000    1368.235    2407.560\n",
       "spring                              -533.5723    184.846     -2.887      0.004    -896.747    -170.398\n",
       "summer                               377.9180    132.753      2.847      0.005     117.092     638.744\n",
       "winter                               670.0846    151.712      4.417      0.000     372.010     968.159\n",
       "January                             -331.1287    155.781     -2.126      0.034    -637.197     -25.060\n",
       "July                                -439.7359    161.982     -2.715      0.007    -757.989    -121.483\n",
       "September                            662.0149    147.571      4.486      0.000     372.076     951.954\n",
       "Light rain_Light snow_Thunderstorm -2486.9861    214.613    -11.588      0.000   -2908.645   -2065.327\n",
       "Mist_cloudy                         -693.2208     76.066     -9.113      0.000    -842.671    -543.770\n",
       "yr                                  2041.0316     71.453     28.565      0.000    1900.645    2181.418\n",
       "holiday                             -845.4055    226.255     -3.737      0.000   -1289.938    -400.873\n",
       "temp                                4111.0375    298.358     13.779      0.000    3524.843    4697.232\n",
       "windspeed                          -1345.4059    219.800     -6.121      0.000   -1777.256    -913.556\n",
       "==============================================================================\n",
       "Omnibus:                       59.917   Durbin-Watson:                   2.048\n",
       "Prob(Omnibus):                  0.000   Jarque-Bera (JB):              134.728\n",
       "Skew:                          -0.638   Prob(JB):                     5.55e-30\n",
       "Kurtosis:                       5.168   Cond. No.                         17.8\n",
       "==============================================================================\n",
       "\n",
       "Notes:\n",
       "[1] Standard Errors assume that the covariance matrix of the errors is correctly specified.\n",
       "\"\"\""
      ]
     },
     "execution_count": 55,
     "metadata": {},
     "output_type": "execute_result"
    }
   ],
   "source": [
    "#Creating a model4 after dropping the \"Saturday\" feature\n",
    "model4=sm.OLS(y_train,x_train_sm)\n",
    "res4=model4.fit()\n",
    "res4.summary()"
   ]
  },
  {
   "cell_type": "code",
   "execution_count": 56,
   "id": "f7d4d6dd",
   "metadata": {},
   "outputs": [],
   "source": [
    "#Dropping the \"summer\" feature as it is not important for our prediction\n",
    "x_train=x_train.drop([\"summer\"],axis=1)\n",
    "x_test=x_test.drop([\"summer\"],axis=1)"
   ]
  },
  {
   "cell_type": "code",
   "execution_count": 57,
   "id": "d15a2937",
   "metadata": {},
   "outputs": [],
   "source": [
    "x_train_sm=sm.add_constant(x_train)\n",
    "x_test_sm=sm.add_constant(x_test)"
   ]
  },
  {
   "cell_type": "code",
   "execution_count": 58,
   "id": "a02e802b",
   "metadata": {},
   "outputs": [
    {
     "data": {
      "text/html": [
       "<table class=\"simpletable\">\n",
       "<caption>OLS Regression Results</caption>\n",
       "<tr>\n",
       "  <th>Dep. Variable:</th>           <td>cnt</td>       <th>  R-squared:         </th> <td>   0.834</td> \n",
       "</tr>\n",
       "<tr>\n",
       "  <th>Model:</th>                   <td>OLS</td>       <th>  Adj. R-squared:    </th> <td>   0.830</td> \n",
       "</tr>\n",
       "<tr>\n",
       "  <th>Method:</th>             <td>Least Squares</td>  <th>  F-statistic:       </th> <td>   228.1</td> \n",
       "</tr>\n",
       "<tr>\n",
       "  <th>Date:</th>             <td>Thu, 04 May 2023</td> <th>  Prob (F-statistic):</th> <td>1.22e-186</td>\n",
       "</tr>\n",
       "<tr>\n",
       "  <th>Time:</th>                 <td>17:18:25</td>     <th>  Log-Likelihood:    </th> <td> -4137.6</td> \n",
       "</tr>\n",
       "<tr>\n",
       "  <th>No. Observations:</th>      <td>   511</td>      <th>  AIC:               </th> <td>   8299.</td> \n",
       "</tr>\n",
       "<tr>\n",
       "  <th>Df Residuals:</th>          <td>   499</td>      <th>  BIC:               </th> <td>   8350.</td> \n",
       "</tr>\n",
       "<tr>\n",
       "  <th>Df Model:</th>              <td>    11</td>      <th>                     </th>     <td> </td>    \n",
       "</tr>\n",
       "<tr>\n",
       "  <th>Covariance Type:</th>      <td>nonrobust</td>    <th>                     </th>     <td> </td>    \n",
       "</tr>\n",
       "</table>\n",
       "<table class=\"simpletable\">\n",
       "<tr>\n",
       "                   <td></td>                     <th>coef</th>     <th>std err</th>      <th>t</th>      <th>P>|t|</th>  <th>[0.025</th>    <th>0.975]</th>  \n",
       "</tr>\n",
       "<tr>\n",
       "  <th>const</th>                              <td> 2338.0560</td> <td>  213.523</td> <td>   10.950</td> <td> 0.000</td> <td> 1918.541</td> <td> 2757.571</td>\n",
       "</tr>\n",
       "<tr>\n",
       "  <th>spring</th>                             <td> -890.9793</td> <td>  136.630</td> <td>   -6.521</td> <td> 0.000</td> <td>-1159.420</td> <td> -622.538</td>\n",
       "</tr>\n",
       "<tr>\n",
       "  <th>winter</th>                             <td>  366.6113</td> <td>  108.712</td> <td>    3.372</td> <td> 0.001</td> <td>  153.021</td> <td>  580.201</td>\n",
       "</tr>\n",
       "<tr>\n",
       "  <th>January</th>                            <td> -373.3132</td> <td>  156.174</td> <td>   -2.390</td> <td> 0.017</td> <td> -680.153</td> <td>  -66.473</td>\n",
       "</tr>\n",
       "<tr>\n",
       "  <th>July</th>                               <td> -606.0546</td> <td>  152.151</td> <td>   -3.983</td> <td> 0.000</td> <td> -904.990</td> <td> -307.119</td>\n",
       "</tr>\n",
       "<tr>\n",
       "  <th>September</th>                          <td>  504.1307</td> <td>  137.723</td> <td>    3.660</td> <td> 0.000</td> <td>  233.543</td> <td>  774.719</td>\n",
       "</tr>\n",
       "<tr>\n",
       "  <th>Light rain_Light snow_Thunderstorm</th> <td>-2498.5596</td> <td>  216.097</td> <td>  -11.562</td> <td> 0.000</td> <td>-2923.132</td> <td>-2073.988</td>\n",
       "</tr>\n",
       "<tr>\n",
       "  <th>Mist_cloudy</th>                        <td> -688.1071</td> <td>   76.585</td> <td>   -8.985</td> <td> 0.000</td> <td> -838.575</td> <td> -537.639</td>\n",
       "</tr>\n",
       "<tr>\n",
       "  <th>yr</th>                                 <td> 2047.2816</td> <td>   71.926</td> <td>   28.464</td> <td> 0.000</td> <td> 1905.967</td> <td> 2188.597</td>\n",
       "</tr>\n",
       "<tr>\n",
       "  <th>holiday</th>                            <td> -849.0948</td> <td>  227.856</td> <td>   -3.726</td> <td> 0.000</td> <td>-1296.771</td> <td> -401.419</td>\n",
       "</tr>\n",
       "<tr>\n",
       "  <th>temp</th>                               <td> 3758.3798</td> <td>  273.349</td> <td>   13.749</td> <td> 0.000</td> <td> 3221.323</td> <td> 4295.437</td>\n",
       "</tr>\n",
       "<tr>\n",
       "  <th>windspeed</th>                          <td>-1285.3762</td> <td>  220.338</td> <td>   -5.834</td> <td> 0.000</td> <td>-1718.281</td> <td> -852.471</td>\n",
       "</tr>\n",
       "</table>\n",
       "<table class=\"simpletable\">\n",
       "<tr>\n",
       "  <th>Omnibus:</th>       <td>58.759</td> <th>  Durbin-Watson:     </th> <td>   2.012</td>\n",
       "</tr>\n",
       "<tr>\n",
       "  <th>Prob(Omnibus):</th> <td> 0.000</td> <th>  Jarque-Bera (JB):  </th> <td> 137.562</td>\n",
       "</tr>\n",
       "<tr>\n",
       "  <th>Skew:</th>          <td>-0.613</td> <th>  Prob(JB):          </th> <td>1.35e-30</td>\n",
       "</tr>\n",
       "<tr>\n",
       "  <th>Kurtosis:</th>      <td> 5.226</td> <th>  Cond. No.          </th> <td>    14.4</td>\n",
       "</tr>\n",
       "</table><br/><br/>Notes:<br/>[1] Standard Errors assume that the covariance matrix of the errors is correctly specified."
      ],
      "text/plain": [
       "<class 'statsmodels.iolib.summary.Summary'>\n",
       "\"\"\"\n",
       "                            OLS Regression Results                            \n",
       "==============================================================================\n",
       "Dep. Variable:                    cnt   R-squared:                       0.834\n",
       "Model:                            OLS   Adj. R-squared:                  0.830\n",
       "Method:                 Least Squares   F-statistic:                     228.1\n",
       "Date:                Thu, 04 May 2023   Prob (F-statistic):          1.22e-186\n",
       "Time:                        17:18:25   Log-Likelihood:                -4137.6\n",
       "No. Observations:                 511   AIC:                             8299.\n",
       "Df Residuals:                     499   BIC:                             8350.\n",
       "Df Model:                          11                                         \n",
       "Covariance Type:            nonrobust                                         \n",
       "======================================================================================================\n",
       "                                         coef    std err          t      P>|t|      [0.025      0.975]\n",
       "------------------------------------------------------------------------------------------------------\n",
       "const                               2338.0560    213.523     10.950      0.000    1918.541    2757.571\n",
       "spring                              -890.9793    136.630     -6.521      0.000   -1159.420    -622.538\n",
       "winter                               366.6113    108.712      3.372      0.001     153.021     580.201\n",
       "January                             -373.3132    156.174     -2.390      0.017    -680.153     -66.473\n",
       "July                                -606.0546    152.151     -3.983      0.000    -904.990    -307.119\n",
       "September                            504.1307    137.723      3.660      0.000     233.543     774.719\n",
       "Light rain_Light snow_Thunderstorm -2498.5596    216.097    -11.562      0.000   -2923.132   -2073.988\n",
       "Mist_cloudy                         -688.1071     76.585     -8.985      0.000    -838.575    -537.639\n",
       "yr                                  2047.2816     71.926     28.464      0.000    1905.967    2188.597\n",
       "holiday                             -849.0948    227.856     -3.726      0.000   -1296.771    -401.419\n",
       "temp                                3758.3798    273.349     13.749      0.000    3221.323    4295.437\n",
       "windspeed                          -1285.3762    220.338     -5.834      0.000   -1718.281    -852.471\n",
       "==============================================================================\n",
       "Omnibus:                       58.759   Durbin-Watson:                   2.012\n",
       "Prob(Omnibus):                  0.000   Jarque-Bera (JB):              137.562\n",
       "Skew:                          -0.613   Prob(JB):                     1.35e-30\n",
       "Kurtosis:                       5.226   Cond. No.                         14.4\n",
       "==============================================================================\n",
       "\n",
       "Notes:\n",
       "[1] Standard Errors assume that the covariance matrix of the errors is correctly specified.\n",
       "\"\"\""
      ]
     },
     "execution_count": 58,
     "metadata": {},
     "output_type": "execute_result"
    }
   ],
   "source": [
    "#Creating a model5 after dropping the \"summer\" feature\n",
    "model5=sm.OLS(y_train,x_train_sm)\n",
    "res5=model5.fit()\n",
    "res5.summary()"
   ]
  },
  {
   "cell_type": "code",
   "execution_count": 59,
   "id": "7ed4752f",
   "metadata": {},
   "outputs": [],
   "source": [
    "##Dropping the \"holiday\" feature as it is not important for our prediction\n",
    "x_train=x_train.drop([\"holiday\"],axis=1)\n",
    "x_test=x_test.drop([\"holiday\"],axis=1)"
   ]
  },
  {
   "cell_type": "code",
   "execution_count": 60,
   "id": "71284070",
   "metadata": {},
   "outputs": [],
   "source": [
    "x_train_sm=sm.add_constant(x_train)\n",
    "x_test_sm=sm.add_constant(x_test)"
   ]
  },
  {
   "cell_type": "code",
   "execution_count": 61,
   "id": "2af0a2b3",
   "metadata": {},
   "outputs": [
    {
     "data": {
      "text/html": [
       "<table class=\"simpletable\">\n",
       "<caption>OLS Regression Results</caption>\n",
       "<tr>\n",
       "  <th>Dep. Variable:</th>           <td>cnt</td>       <th>  R-squared:         </th> <td>   0.829</td> \n",
       "</tr>\n",
       "<tr>\n",
       "  <th>Model:</th>                   <td>OLS</td>       <th>  Adj. R-squared:    </th> <td>   0.826</td> \n",
       "</tr>\n",
       "<tr>\n",
       "  <th>Method:</th>             <td>Least Squares</td>  <th>  F-statistic:       </th> <td>   243.2</td> \n",
       "</tr>\n",
       "<tr>\n",
       "  <th>Date:</th>             <td>Thu, 04 May 2023</td> <th>  Prob (F-statistic):</th> <td>7.03e-185</td>\n",
       "</tr>\n",
       "<tr>\n",
       "  <th>Time:</th>                 <td>17:18:25</td>     <th>  Log-Likelihood:    </th> <td> -4144.6</td> \n",
       "</tr>\n",
       "<tr>\n",
       "  <th>No. Observations:</th>      <td>   511</td>      <th>  AIC:               </th> <td>   8311.</td> \n",
       "</tr>\n",
       "<tr>\n",
       "  <th>Df Residuals:</th>          <td>   500</td>      <th>  BIC:               </th> <td>   8358.</td> \n",
       "</tr>\n",
       "<tr>\n",
       "  <th>Df Model:</th>              <td>    10</td>      <th>                     </th>     <td> </td>    \n",
       "</tr>\n",
       "<tr>\n",
       "  <th>Covariance Type:</th>      <td>nonrobust</td>    <th>                     </th>     <td> </td>    \n",
       "</tr>\n",
       "</table>\n",
       "<table class=\"simpletable\">\n",
       "<tr>\n",
       "                   <td></td>                     <th>coef</th>     <th>std err</th>      <th>t</th>      <th>P>|t|</th>  <th>[0.025</th>    <th>0.975]</th>  \n",
       "</tr>\n",
       "<tr>\n",
       "  <th>const</th>                              <td> 2326.6365</td> <td>  216.235</td> <td>   10.760</td> <td> 0.000</td> <td> 1901.795</td> <td> 2751.478</td>\n",
       "</tr>\n",
       "<tr>\n",
       "  <th>spring</th>                             <td> -913.3109</td> <td>  138.246</td> <td>   -6.606</td> <td> 0.000</td> <td>-1184.926</td> <td> -641.696</td>\n",
       "</tr>\n",
       "<tr>\n",
       "  <th>winter</th>                             <td>  341.0997</td> <td>  109.886</td> <td>    3.104</td> <td> 0.002</td> <td>  125.205</td> <td>  556.994</td>\n",
       "</tr>\n",
       "<tr>\n",
       "  <th>January</th>                            <td> -381.0105</td> <td>  158.160</td> <td>   -2.409</td> <td> 0.016</td> <td> -691.751</td> <td>  -70.270</td>\n",
       "</tr>\n",
       "<tr>\n",
       "  <th>July</th>                               <td> -597.4692</td> <td>  154.081</td> <td>   -3.878</td> <td> 0.000</td> <td> -900.196</td> <td> -294.743</td>\n",
       "</tr>\n",
       "<tr>\n",
       "  <th>September</th>                          <td>  472.3673</td> <td>  139.219</td> <td>    3.393</td> <td> 0.001</td> <td>  198.841</td> <td>  745.893</td>\n",
       "</tr>\n",
       "<tr>\n",
       "  <th>Light rain_Light snow_Thunderstorm</th> <td>-2462.8150</td> <td>  218.648</td> <td>  -11.264</td> <td> 0.000</td> <td>-2892.397</td> <td>-2033.233</td>\n",
       "</tr>\n",
       "<tr>\n",
       "  <th>Mist_cloudy</th>                        <td> -673.2605</td> <td>   77.460</td> <td>   -8.692</td> <td> 0.000</td> <td> -825.448</td> <td> -521.073</td>\n",
       "</tr>\n",
       "<tr>\n",
       "  <th>yr</th>                                 <td> 2050.8328</td> <td>   72.841</td> <td>   28.155</td> <td> 0.000</td> <td> 1907.721</td> <td> 2193.944</td>\n",
       "</tr>\n",
       "<tr>\n",
       "  <th>temp</th>                               <td> 3760.6809</td> <td>  276.849</td> <td>   13.584</td> <td> 0.000</td> <td> 3216.751</td> <td> 4304.611</td>\n",
       "</tr>\n",
       "<tr>\n",
       "  <th>windspeed</th>                          <td>-1301.1387</td> <td>  223.118</td> <td>   -5.832</td> <td> 0.000</td> <td>-1739.504</td> <td> -862.774</td>\n",
       "</tr>\n",
       "</table>\n",
       "<table class=\"simpletable\">\n",
       "<tr>\n",
       "  <th>Omnibus:</th>       <td>70.354</td> <th>  Durbin-Watson:     </th> <td>   1.968</td>\n",
       "</tr>\n",
       "<tr>\n",
       "  <th>Prob(Omnibus):</th> <td> 0.000</td> <th>  Jarque-Bera (JB):  </th> <td> 178.010</td>\n",
       "</tr>\n",
       "<tr>\n",
       "  <th>Skew:</th>          <td>-0.701</td> <th>  Prob(JB):          </th> <td>2.22e-39</td>\n",
       "</tr>\n",
       "<tr>\n",
       "  <th>Kurtosis:</th>      <td> 5.529</td> <th>  Cond. No.          </th> <td>    14.4</td>\n",
       "</tr>\n",
       "</table><br/><br/>Notes:<br/>[1] Standard Errors assume that the covariance matrix of the errors is correctly specified."
      ],
      "text/plain": [
       "<class 'statsmodels.iolib.summary.Summary'>\n",
       "\"\"\"\n",
       "                            OLS Regression Results                            \n",
       "==============================================================================\n",
       "Dep. Variable:                    cnt   R-squared:                       0.829\n",
       "Model:                            OLS   Adj. R-squared:                  0.826\n",
       "Method:                 Least Squares   F-statistic:                     243.2\n",
       "Date:                Thu, 04 May 2023   Prob (F-statistic):          7.03e-185\n",
       "Time:                        17:18:25   Log-Likelihood:                -4144.6\n",
       "No. Observations:                 511   AIC:                             8311.\n",
       "Df Residuals:                     500   BIC:                             8358.\n",
       "Df Model:                          10                                         \n",
       "Covariance Type:            nonrobust                                         \n",
       "======================================================================================================\n",
       "                                         coef    std err          t      P>|t|      [0.025      0.975]\n",
       "------------------------------------------------------------------------------------------------------\n",
       "const                               2326.6365    216.235     10.760      0.000    1901.795    2751.478\n",
       "spring                              -913.3109    138.246     -6.606      0.000   -1184.926    -641.696\n",
       "winter                               341.0997    109.886      3.104      0.002     125.205     556.994\n",
       "January                             -381.0105    158.160     -2.409      0.016    -691.751     -70.270\n",
       "July                                -597.4692    154.081     -3.878      0.000    -900.196    -294.743\n",
       "September                            472.3673    139.219      3.393      0.001     198.841     745.893\n",
       "Light rain_Light snow_Thunderstorm -2462.8150    218.648    -11.264      0.000   -2892.397   -2033.233\n",
       "Mist_cloudy                         -673.2605     77.460     -8.692      0.000    -825.448    -521.073\n",
       "yr                                  2050.8328     72.841     28.155      0.000    1907.721    2193.944\n",
       "temp                                3760.6809    276.849     13.584      0.000    3216.751    4304.611\n",
       "windspeed                          -1301.1387    223.118     -5.832      0.000   -1739.504    -862.774\n",
       "==============================================================================\n",
       "Omnibus:                       70.354   Durbin-Watson:                   1.968\n",
       "Prob(Omnibus):                  0.000   Jarque-Bera (JB):              178.010\n",
       "Skew:                          -0.701   Prob(JB):                     2.22e-39\n",
       "Kurtosis:                       5.529   Cond. No.                         14.4\n",
       "==============================================================================\n",
       "\n",
       "Notes:\n",
       "[1] Standard Errors assume that the covariance matrix of the errors is correctly specified.\n",
       "\"\"\""
      ]
     },
     "execution_count": 61,
     "metadata": {},
     "output_type": "execute_result"
    }
   ],
   "source": [
    "#Creating a model6 after dropping the \"holiday\" feature\n",
    "model6=sm.OLS(y_train,x_train_sm)\n",
    "res6=model6.fit()\n",
    "res6.summary()"
   ]
  },
  {
   "cell_type": "code",
   "execution_count": 62,
   "id": "d17e6faa",
   "metadata": {},
   "outputs": [
    {
     "data": {
      "text/html": [
       "<div>\n",
       "<style scoped>\n",
       "    .dataframe tbody tr th:only-of-type {\n",
       "        vertical-align: middle;\n",
       "    }\n",
       "\n",
       "    .dataframe tbody tr th {\n",
       "        vertical-align: top;\n",
       "    }\n",
       "\n",
       "    .dataframe thead th {\n",
       "        text-align: right;\n",
       "    }\n",
       "</style>\n",
       "<table border=\"1\" class=\"dataframe\">\n",
       "  <thead>\n",
       "    <tr style=\"text-align: right;\">\n",
       "      <th></th>\n",
       "      <th>Features</th>\n",
       "      <th>VIF</th>\n",
       "    </tr>\n",
       "  </thead>\n",
       "  <tbody>\n",
       "    <tr>\n",
       "      <th>8</th>\n",
       "      <td>temp</td>\n",
       "      <td>4.64</td>\n",
       "    </tr>\n",
       "    <tr>\n",
       "      <th>9</th>\n",
       "      <td>windspeed</td>\n",
       "      <td>4.01</td>\n",
       "    </tr>\n",
       "    <tr>\n",
       "      <th>0</th>\n",
       "      <td>spring</td>\n",
       "      <td>2.23</td>\n",
       "    </tr>\n",
       "    <tr>\n",
       "      <th>7</th>\n",
       "      <td>yr</td>\n",
       "      <td>2.07</td>\n",
       "    </tr>\n",
       "    <tr>\n",
       "      <th>2</th>\n",
       "      <td>January</td>\n",
       "      <td>1.60</td>\n",
       "    </tr>\n",
       "    <tr>\n",
       "      <th>6</th>\n",
       "      <td>Mist_cloudy</td>\n",
       "      <td>1.53</td>\n",
       "    </tr>\n",
       "    <tr>\n",
       "      <th>1</th>\n",
       "      <td>winter</td>\n",
       "      <td>1.38</td>\n",
       "    </tr>\n",
       "    <tr>\n",
       "      <th>3</th>\n",
       "      <td>July</td>\n",
       "      <td>1.36</td>\n",
       "    </tr>\n",
       "    <tr>\n",
       "      <th>4</th>\n",
       "      <td>September</td>\n",
       "      <td>1.20</td>\n",
       "    </tr>\n",
       "    <tr>\n",
       "      <th>5</th>\n",
       "      <td>Light rain_Light snow_Thunderstorm</td>\n",
       "      <td>1.08</td>\n",
       "    </tr>\n",
       "  </tbody>\n",
       "</table>\n",
       "</div>"
      ],
      "text/plain": [
       "                             Features   VIF\n",
       "8                                temp  4.64\n",
       "9                           windspeed  4.01\n",
       "0                              spring  2.23\n",
       "7                                  yr  2.07\n",
       "2                             January  1.60\n",
       "6                         Mist_cloudy  1.53\n",
       "1                              winter  1.38\n",
       "3                                July  1.36\n",
       "4                           September  1.20\n",
       "5  Light rain_Light snow_Thunderstorm  1.08"
      ]
     },
     "execution_count": 62,
     "metadata": {},
     "output_type": "execute_result"
    }
   ],
   "source": [
    "get_VIF(x_train)"
   ]
  },
  {
   "cell_type": "code",
   "execution_count": 63,
   "id": "86a2ebb7",
   "metadata": {},
   "outputs": [],
   "source": [
    "x_train_sm=sm.add_constant(x_train)\n",
    "x_test_sm=sm.add_constant(x_test)"
   ]
  },
  {
   "cell_type": "code",
   "execution_count": 64,
   "id": "5ce4a3fc",
   "metadata": {},
   "outputs": [
    {
     "data": {
      "text/html": [
       "<table class=\"simpletable\">\n",
       "<caption>OLS Regression Results</caption>\n",
       "<tr>\n",
       "  <th>Dep. Variable:</th>           <td>cnt</td>       <th>  R-squared:         </th> <td>   0.829</td> \n",
       "</tr>\n",
       "<tr>\n",
       "  <th>Model:</th>                   <td>OLS</td>       <th>  Adj. R-squared:    </th> <td>   0.826</td> \n",
       "</tr>\n",
       "<tr>\n",
       "  <th>Method:</th>             <td>Least Squares</td>  <th>  F-statistic:       </th> <td>   243.2</td> \n",
       "</tr>\n",
       "<tr>\n",
       "  <th>Date:</th>             <td>Thu, 04 May 2023</td> <th>  Prob (F-statistic):</th> <td>7.03e-185</td>\n",
       "</tr>\n",
       "<tr>\n",
       "  <th>Time:</th>                 <td>17:18:26</td>     <th>  Log-Likelihood:    </th> <td> -4144.6</td> \n",
       "</tr>\n",
       "<tr>\n",
       "  <th>No. Observations:</th>      <td>   511</td>      <th>  AIC:               </th> <td>   8311.</td> \n",
       "</tr>\n",
       "<tr>\n",
       "  <th>Df Residuals:</th>          <td>   500</td>      <th>  BIC:               </th> <td>   8358.</td> \n",
       "</tr>\n",
       "<tr>\n",
       "  <th>Df Model:</th>              <td>    10</td>      <th>                     </th>     <td> </td>    \n",
       "</tr>\n",
       "<tr>\n",
       "  <th>Covariance Type:</th>      <td>nonrobust</td>    <th>                     </th>     <td> </td>    \n",
       "</tr>\n",
       "</table>\n",
       "<table class=\"simpletable\">\n",
       "<tr>\n",
       "                   <td></td>                     <th>coef</th>     <th>std err</th>      <th>t</th>      <th>P>|t|</th>  <th>[0.025</th>    <th>0.975]</th>  \n",
       "</tr>\n",
       "<tr>\n",
       "  <th>const</th>                              <td> 2326.6365</td> <td>  216.235</td> <td>   10.760</td> <td> 0.000</td> <td> 1901.795</td> <td> 2751.478</td>\n",
       "</tr>\n",
       "<tr>\n",
       "  <th>spring</th>                             <td> -913.3109</td> <td>  138.246</td> <td>   -6.606</td> <td> 0.000</td> <td>-1184.926</td> <td> -641.696</td>\n",
       "</tr>\n",
       "<tr>\n",
       "  <th>winter</th>                             <td>  341.0997</td> <td>  109.886</td> <td>    3.104</td> <td> 0.002</td> <td>  125.205</td> <td>  556.994</td>\n",
       "</tr>\n",
       "<tr>\n",
       "  <th>January</th>                            <td> -381.0105</td> <td>  158.160</td> <td>   -2.409</td> <td> 0.016</td> <td> -691.751</td> <td>  -70.270</td>\n",
       "</tr>\n",
       "<tr>\n",
       "  <th>July</th>                               <td> -597.4692</td> <td>  154.081</td> <td>   -3.878</td> <td> 0.000</td> <td> -900.196</td> <td> -294.743</td>\n",
       "</tr>\n",
       "<tr>\n",
       "  <th>September</th>                          <td>  472.3673</td> <td>  139.219</td> <td>    3.393</td> <td> 0.001</td> <td>  198.841</td> <td>  745.893</td>\n",
       "</tr>\n",
       "<tr>\n",
       "  <th>Light rain_Light snow_Thunderstorm</th> <td>-2462.8150</td> <td>  218.648</td> <td>  -11.264</td> <td> 0.000</td> <td>-2892.397</td> <td>-2033.233</td>\n",
       "</tr>\n",
       "<tr>\n",
       "  <th>Mist_cloudy</th>                        <td> -673.2605</td> <td>   77.460</td> <td>   -8.692</td> <td> 0.000</td> <td> -825.448</td> <td> -521.073</td>\n",
       "</tr>\n",
       "<tr>\n",
       "  <th>yr</th>                                 <td> 2050.8328</td> <td>   72.841</td> <td>   28.155</td> <td> 0.000</td> <td> 1907.721</td> <td> 2193.944</td>\n",
       "</tr>\n",
       "<tr>\n",
       "  <th>temp</th>                               <td> 3760.6809</td> <td>  276.849</td> <td>   13.584</td> <td> 0.000</td> <td> 3216.751</td> <td> 4304.611</td>\n",
       "</tr>\n",
       "<tr>\n",
       "  <th>windspeed</th>                          <td>-1301.1387</td> <td>  223.118</td> <td>   -5.832</td> <td> 0.000</td> <td>-1739.504</td> <td> -862.774</td>\n",
       "</tr>\n",
       "</table>\n",
       "<table class=\"simpletable\">\n",
       "<tr>\n",
       "  <th>Omnibus:</th>       <td>70.354</td> <th>  Durbin-Watson:     </th> <td>   1.968</td>\n",
       "</tr>\n",
       "<tr>\n",
       "  <th>Prob(Omnibus):</th> <td> 0.000</td> <th>  Jarque-Bera (JB):  </th> <td> 178.010</td>\n",
       "</tr>\n",
       "<tr>\n",
       "  <th>Skew:</th>          <td>-0.701</td> <th>  Prob(JB):          </th> <td>2.22e-39</td>\n",
       "</tr>\n",
       "<tr>\n",
       "  <th>Kurtosis:</th>      <td> 5.529</td> <th>  Cond. No.          </th> <td>    14.4</td>\n",
       "</tr>\n",
       "</table><br/><br/>Notes:<br/>[1] Standard Errors assume that the covariance matrix of the errors is correctly specified."
      ],
      "text/plain": [
       "<class 'statsmodels.iolib.summary.Summary'>\n",
       "\"\"\"\n",
       "                            OLS Regression Results                            \n",
       "==============================================================================\n",
       "Dep. Variable:                    cnt   R-squared:                       0.829\n",
       "Model:                            OLS   Adj. R-squared:                  0.826\n",
       "Method:                 Least Squares   F-statistic:                     243.2\n",
       "Date:                Thu, 04 May 2023   Prob (F-statistic):          7.03e-185\n",
       "Time:                        17:18:26   Log-Likelihood:                -4144.6\n",
       "No. Observations:                 511   AIC:                             8311.\n",
       "Df Residuals:                     500   BIC:                             8358.\n",
       "Df Model:                          10                                         \n",
       "Covariance Type:            nonrobust                                         \n",
       "======================================================================================================\n",
       "                                         coef    std err          t      P>|t|      [0.025      0.975]\n",
       "------------------------------------------------------------------------------------------------------\n",
       "const                               2326.6365    216.235     10.760      0.000    1901.795    2751.478\n",
       "spring                              -913.3109    138.246     -6.606      0.000   -1184.926    -641.696\n",
       "winter                               341.0997    109.886      3.104      0.002     125.205     556.994\n",
       "January                             -381.0105    158.160     -2.409      0.016    -691.751     -70.270\n",
       "July                                -597.4692    154.081     -3.878      0.000    -900.196    -294.743\n",
       "September                            472.3673    139.219      3.393      0.001     198.841     745.893\n",
       "Light rain_Light snow_Thunderstorm -2462.8150    218.648    -11.264      0.000   -2892.397   -2033.233\n",
       "Mist_cloudy                         -673.2605     77.460     -8.692      0.000    -825.448    -521.073\n",
       "yr                                  2050.8328     72.841     28.155      0.000    1907.721    2193.944\n",
       "temp                                3760.6809    276.849     13.584      0.000    3216.751    4304.611\n",
       "windspeed                          -1301.1387    223.118     -5.832      0.000   -1739.504    -862.774\n",
       "==============================================================================\n",
       "Omnibus:                       70.354   Durbin-Watson:                   1.968\n",
       "Prob(Omnibus):                  0.000   Jarque-Bera (JB):              178.010\n",
       "Skew:                          -0.701   Prob(JB):                     2.22e-39\n",
       "Kurtosis:                       5.529   Cond. No.                         14.4\n",
       "==============================================================================\n",
       "\n",
       "Notes:\n",
       "[1] Standard Errors assume that the covariance matrix of the errors is correctly specified.\n",
       "\"\"\""
      ]
     },
     "execution_count": 64,
     "metadata": {},
     "output_type": "execute_result"
    }
   ],
   "source": [
    "#Creating final model7\n",
    "model7=sm.OLS(y_train,x_train_sm)\n",
    "res7=model7.fit()\n",
    "res7.summary()"
   ]
  },
  {
   "cell_type": "code",
   "execution_count": 65,
   "id": "ab7eb8bc",
   "metadata": {},
   "outputs": [
    {
     "data": {
      "text/plain": [
       "(511, 10)"
      ]
     },
     "execution_count": 65,
     "metadata": {},
     "output_type": "execute_result"
    }
   ],
   "source": [
    "x_train.shape"
   ]
  },
  {
   "cell_type": "markdown",
   "id": "27147ade",
   "metadata": {},
   "source": [
    "# Model is Ready"
   ]
  },
  {
   "cell_type": "code",
   "execution_count": 66,
   "id": "b44650ca",
   "metadata": {},
   "outputs": [],
   "source": [
    "#Importing sklearn.metrics library which is used to evaluate the performance of regression models\n",
    "from sklearn.metrics import r2_score"
   ]
  },
  {
   "cell_type": "code",
   "execution_count": 67,
   "id": "75ca8a1e",
   "metadata": {},
   "outputs": [
    {
     "name": "stdout",
     "output_type": "stream",
     "text": [
      "Test Performance: 78.71 %\n"
     ]
    }
   ],
   "source": [
    "#Prints the R-squared test performance score in percentage for the predicted values and actual test labels\n",
    "predicted_value=res7.predict(x_test_sm)\n",
    "print(\"Test Performance:\",round(r2_score(y_test, predicted_value)*100,2),\"%\")"
   ]
  },
  {
   "cell_type": "code",
   "execution_count": 68,
   "id": "11e0d318",
   "metadata": {},
   "outputs": [
    {
     "name": "stdout",
     "output_type": "stream",
     "text": [
      "Train Performance: 82.95 %\n"
     ]
    }
   ],
   "source": [
    "#Prints the R-squared train performance score in percentage for the predicted values and actual test labels\n",
    "predicted_value1=res7.predict(x_train_sm)\n",
    "print(\"Train Performance:\",round(r2_score(y_train, predicted_value1)*100,2),\"%\")"
   ]
  },
  {
   "cell_type": "markdown",
   "id": "5ac64a02",
   "metadata": {},
   "source": [
    "# Residual Analysis"
   ]
  },
  {
   "cell_type": "code",
   "execution_count": 69,
   "id": "b407c974",
   "metadata": {},
   "outputs": [],
   "source": [
    "lm = sm.OLS(y_train,x_train).fit()\n",
    "y_train_pred = lm.predict(x_train)"
   ]
  },
  {
   "cell_type": "code",
   "execution_count": 70,
   "id": "e82d2b33",
   "metadata": {},
   "outputs": [
    {
     "data": {
      "text/plain": [
       "Text(0.5, 0, 'Errors')"
      ]
     },
     "execution_count": 70,
     "metadata": {},
     "output_type": "execute_result"
    },
    {
     "data": {
      "text/plain": [
       "<Figure size 432x288 with 0 Axes>"
      ]
     },
     "metadata": {},
     "output_type": "display_data"
    },
    {
     "data": {
      "image/png": "[encoded data removed]",
      "text/plain": [
       "<Figure size 576x360 with 1 Axes>"
      ]
     },
     "metadata": {
      "needs_background": "light"
     },
     "output_type": "display_data"
    }
   ],
   "source": [
    "fig = plt.figure()\n",
    "plt.figure(figsize=(8,5))\n",
    "sns.distplot((y_train - y_train_pred), bins = 20)\n",
    "fig.suptitle('Error Terms', fontsize = 15)               \n",
    "plt.xlabel('Errors', fontsize = 15)"
   ]
  },
  {
   "cell_type": "markdown",
   "id": "b00f52c3",
   "metadata": {},
   "source": [
    "# Checking Adjusted R^2 "
   ]
  },
  {
   "cell_type": "code",
   "execution_count": 71,
   "id": "1f5147bb",
   "metadata": {},
   "outputs": [
    {
     "name": "stdout",
     "output_type": "stream",
     "text": [
      "0.7768\n"
     ]
    }
   ],
   "source": [
    "# Calculating Adjusted-R^2 value for the test dataset\n",
    "\n",
    "adjusted_r2 = round(1-(1-r2_score(y_test, predicted_value))*(x_test.shape[0]-1)/(x_test.shape[0]-x_test.shape[1]-1),4)\n",
    "print(adjusted_r2)"
   ]
  },
  {
   "cell_type": "code",
   "execution_count": 72,
   "id": "420d6650",
   "metadata": {},
   "outputs": [
    {
     "name": "stdout",
     "output_type": "stream",
     "text": [
      "0.8261\n"
     ]
    }
   ],
   "source": [
    "# Calculating Adjusted-R^2 value for the train dataset\n",
    "\n",
    "adjusted_r2 = round(1-(1-r2_score(y_train, predicted_value1))*(x_train.shape[0]-1)/(x_train.shape[0]-x_train.shape[1]-1),4)\n",
    "print(adjusted_r2)"
   ]
  },
  {
   "cell_type": "markdown",
   "id": "b76eb571",
   "metadata": {},
   "source": [
    "# Model Evaluation"
   ]
  },
  {
   "cell_type": "code",
   "execution_count": 73,
   "id": "a60bb5b3",
   "metadata": {},
   "outputs": [
    {
     "data": {
      "image/png": "[encoded data removed]",
      "text/plain": [
       "<Figure size 432x288 with 1 Axes>"
      ]
     },
     "metadata": {
      "needs_background": "light"
     },
     "output_type": "display_data"
    }
   ],
   "source": [
    "#Plotting a Regression plot between the actual test values (y_test) and the predicted values (predicted_value) using seaborn library.\n",
    "\n",
    "plt.figure()\n",
    "sns.regplot(x=y_test, y=predicted_value, ci=68, fit_reg=True,scatter_kws={\"color\": \"blue\"}, line_kws={\"color\": \"red\"})\n",
    "plt.title('y_test vs y_pred', fontsize=20)\n",
    "plt.xlabel('y_test', fontsize=18)\n",
    "plt.ylabel('y_pred', fontsize=16)\n",
    "plt.show()"
   ]
  },
  {
   "cell_type": "markdown",
   "id": "9c1f71d7",
   "metadata": {},
   "source": [
    "# Train dataset for R^2  : 82.95%"
   ]
  },
  {
   "cell_type": "markdown",
   "id": "a037c983",
   "metadata": {},
   "source": [
    "# Test dataset for R^2 : 78.71%"
   ]
  },
  {
   "cell_type": "markdown",
   "id": "7fa5d01c",
   "metadata": {},
   "source": [
    "# Train dataset Adjusted R^2 : 0.8261"
   ]
  },
  {
   "cell_type": "markdown",
   "id": "1a22733b",
   "metadata": {},
   "source": [
    "# Test dataset Adjusted R^2 : 0.7768"
   ]
  },
  {
   "cell_type": "markdown",
   "id": "e942da32",
   "metadata": {},
   "source": [
    "# We can see that the equation for best fitted line is:"
   ]
  },
  {
   "cell_type": "markdown",
   "id": "3b32b0cc",
   "metadata": {},
   "source": [
    "# y=-913.3109xspring+341.0997xwinter-381.0105xJanuary-597.4692xJuly+472.3673xSeptember-2462.8150xLight rain_Light snow_Thunderstorm-673.2605xMist_cloudy+2050.8328xyr+3760.6809xtemp-1301.1387xwindspeed"
   ]
  },
  {
   "cell_type": "markdown",
   "id": "41d18b99",
   "metadata": {},
   "source": [
    "# We can see the demand for bikes depends mainly on below variables:\n",
    "spring,Winter,January,July,September,Light rain_Light snow_Thunderstorm,Mist_cloudy,yr,temp,windspeed."
   ]
  },
  {
   "cell_type": "markdown",
   "id": "be3e01b7",
   "metadata": {},
   "source": [
    "# Demand decreases in spring and summer season and in the month of January ,July and during Light rain_Light snow_Thunderstorm and in Mist_cloudy and when windspeed is high and its also working day."
   ]
  },
  {
   "cell_type": "markdown",
   "id": "c4e8d3a3",
   "metadata": {},
   "source": [
    "# Demand increase in month of September, depends on yr(year)."
   ]
  }
 ],
 "metadata": {
  "kernelspec": {
   "display_name": "Python 3 (ipykernel)",
   "language": "python",
   "name": "python3"
  },
  "language_info": {
   "codemirror_mode": {
    "name": "ipython",
    "version": 3
   },
   "file_extension": ".py",
   "mimetype": "text/x-python",
   "name": "python",
   "nbconvert_exporter": "python",
   "pygments_lexer": "ipython3",
   "version": "3.9.12"
  }
 },
 "nbformat": 4,
 "nbformat_minor": 5
}
